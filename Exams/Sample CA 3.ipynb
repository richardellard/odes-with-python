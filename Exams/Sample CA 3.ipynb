{
 "cells": [
  {
   "cell_type": "markdown",
   "metadata": {},
   "source": [
    "When you have completed the assignment, make sure all changes to this notebook have been saved (**File -> Save and Checkpoint**) and then upload the notebook to Brightspace. Follow the instructions in each question **precisely**. This examination will be marked out of a total of **32 marks**. Please attempt **all questions**.\n",
    "\n",
    "*Write your answers on the handout provided when instructed to do so.*"
   ]
  },
  {
   "cell_type": "markdown",
   "metadata": {},
   "source": [
    "# Question one (32 marks)\n",
    "\n",
    "Consider the differential equation\n",
    "\n",
    "$$\n",
    "    \\frac{dy}{dx}=\\frac{2y}{x}-x.\\tag{$*$}\n",
    "$$\n",
    "\n",
    "The slope field for this equation is plotted in Figure 1 on the handout provided, for $x,y\\in(0,4)$."
   ]
  },
  {
   "cell_type": "markdown",
   "metadata": {},
   "source": [
    "**(a)** *Drawing directly on top of Figure 1 in the handout*, roughly sketch the particular solution to ($*$) which passes through the point $(x,y)=(2,2)$. **(4 marks)**"
   ]
  },
  {
   "cell_type": "markdown",
   "metadata": {},
   "source": [
    "**(b)** Verify that\n",
    "\n",
    "$$\n",
    "    y(x)=x^2\\left( \\frac{3}{2}-\\ln(x) \\right) \\tag{$\\dagger$}\n",
    "$$\n",
    "\n",
    "satisfies the equation ($*$) as well as the initial condition $y(e)=e^2/2$. *Answer this question on the provided handout.* **(10 marks)**"
   ]
  },
  {
   "cell_type": "markdown",
   "metadata": {},
   "source": [
    "**(c)** Use Python to plot the slope field for ($*$) for $0\\leq x\\leq4$ and $0\\leq y\\leq 4$ (this should look identical to the plot on the handout). **(5 marks)**"
   ]
  },
  {
   "cell_type": "code",
   "execution_count": null,
   "metadata": {},
   "outputs": [],
   "source": []
  },
  {
   "cell_type": "markdown",
   "metadata": {},
   "source": [
    "**(d)** On the same plot you generated for part (c), use `matplotlib` to graph the solution ($\\dagger$). **(5 marks)**"
   ]
  },
  {
   "cell_type": "markdown",
   "metadata": {},
   "source": [
    "**(e)** Discuss the domain(s) on which the differential equation ($*$) has a unique solution. Your answer should reference any theoretical guarantees which may be relevant as well as any features of the slope field which may be relevant. *Answer this question on the provided handout.* **(8 marks)**"
   ]
  }
 ],
 "metadata": {
  "kernelspec": {
   "display_name": "Python 3",
   "language": "python",
   "name": "python3"
  },
  "language_info": {
   "codemirror_mode": {
    "name": "ipython",
    "version": 3
   },
   "file_extension": ".py",
   "mimetype": "text/x-python",
   "name": "python",
   "nbconvert_exporter": "python",
   "pygments_lexer": "ipython3",
   "version": "3.7.1"
  }
 },
 "nbformat": 4,
 "nbformat_minor": 2
}
