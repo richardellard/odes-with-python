{
 "cells": [
  {
   "cell_type": "markdown",
   "metadata": {},
   "source": [
    "The time allowed for this examination is **50 minutes**. This examination is **open-book** and you may use any material on Brightspace. When you have completed the examination, make sure all changes to this notebook have been saved (**File -> Save and Checkpoint**) and then upload the notebook to Brightspace. Follow the instructions in each question **precisely**. This examination will be marked out of a total of **34 marks**. Please attempt **all questions**."
   ]
  },
  {
   "cell_type": "markdown",
   "metadata": {},
   "source": [
    "# Question one (10 marks)\n",
    "\n",
    "Consider the following list and simple functions:"
   ]
  },
  {
   "cell_type": "code",
   "execution_count": null,
   "metadata": {},
   "outputs": [],
   "source": [
    "my_list = [\n",
    "    7457452533,\n",
    "    9983718576,\n",
    "    1103967329,\n",
    "    2209684734,\n",
    "    8455376634,\n",
    "    4865512072,\n",
    "    1229970564,\n",
    "    1193967898\n",
    "]\n",
    "\n",
    "def square(x):\n",
    "    return x**2\n",
    "\n",
    "def is_odd(x):\n",
    "    # returns True if x is even, False otherwise\n",
    "    return bool(x % 2)"
   ]
  },
  {
   "cell_type": "markdown",
   "metadata": {},
   "source": [
    "**(a)** Using the built-in `map` function, or otherwise, produce a new list called `mapped_list` which contains the squares of the entries in `my_list`. **(3 marks)**"
   ]
  },
  {
   "cell_type": "code",
   "execution_count": null,
   "metadata": {},
   "outputs": [],
   "source": []
  },
  {
   "cell_type": "markdown",
   "metadata": {},
   "source": [
    "**(b)** Use the built-in `filter` function to produce a new list called `odd_list` which contains only the odd entries in `my_list`. **(3 marks)**"
   ]
  },
  {
   "cell_type": "code",
   "execution_count": null,
   "metadata": {},
   "outputs": [],
   "source": []
  },
  {
   "cell_type": "markdown",
   "metadata": {},
   "source": [
    "**(c)** Similarly to part (b), use the built-in `filter` function to produce a new list called `even_list` which contains only the even entries in `my_list`. **(4 marks)**"
   ]
  },
  {
   "cell_type": "code",
   "execution_count": null,
   "metadata": {},
   "outputs": [],
   "source": []
  },
  {
   "cell_type": "markdown",
   "metadata": {},
   "source": [
    "# Question 2 (16 marks)\n",
    "\n",
    "In this question, you are asked to write a factorial function in three different ways.\n",
    "\n",
    "**(a)** **Using procedural/imperative code**, write a function called `factorial1` which takes a positive integer $n$ as an argument and returns $n!$. **(4 marks)**"
   ]
  },
  {
   "cell_type": "code",
   "execution_count": null,
   "metadata": {},
   "outputs": [],
   "source": []
  },
  {
   "cell_type": "markdown",
   "metadata": {},
   "source": [
    "**(b)** Write a function called `factorial2` which takes a positive integer $n$ as an argument and returns $n!$ **using recursive function calls**. **(4 marks)**"
   ]
  },
  {
   "cell_type": "code",
   "execution_count": null,
   "metadata": {},
   "outputs": [],
   "source": []
  },
  {
   "cell_type": "markdown",
   "metadata": {},
   "source": [
    "**(c)** Write a function called `factorial3` which takes a positive integer $n$ as an argument and computes (and returns) $n!$ **using the `reduce` function from the `functools` module**. *Hint: a simple `multiply` function has been written for you; consider how you might use this.* **(8 marks)**"
   ]
  },
  {
   "cell_type": "code",
   "execution_count": null,
   "metadata": {},
   "outputs": [],
   "source": [
    "from functools import reduce\n",
    "\n",
    "def multiply(x, y):\n",
    "    return x*y\n",
    "\n"
   ]
  },
  {
   "cell_type": "markdown",
   "metadata": {},
   "source": [
    "# Question three (8 marks)\n",
    "\n"
   ]
  },
  {
   "cell_type": "markdown",
   "metadata": {},
   "source": [
    "Consider a `Vector` class which represents a vector (equivalently a point) in $\\mathbb{R}^2$. `Vector` objects will store an $x$- and a $y$-coordinate. If `u` and `v` are vector objects, then `u + v` evaluates to the vector sum of $\\vec{u}$ and $\\vec{v}$ in the usual mathematical sense. Similarly, `Vector` objects are scalable, so that, for example, `u.scale(2)` returns a vector in the same direction as $\\vec{u}$, but twice as long.\n",
    "\n",
    "Consider also a `Circle` class which represents a circle in $\\mathbb{R}^2$. Circle objects store their centre as a `Vector` object and also store their radius $r$. `Circle` objects also have a `scale` method such that, for example, `mycircle.scale(2)` returns a new circle with the same centre as `mycircle`, but with twice the radius.\n",
    "\n",
    "The following code is an implementation of the `Vector` and `Circle` classes:"
   ]
  },
  {
   "cell_type": "code",
   "execution_count": null,
   "metadata": {},
   "outputs": [],
   "source": [
    "class Vector:\n",
    "    def __init__(self, x, y):\n",
    "        self.x = x\n",
    "        self.y = y\n",
    "        \n",
    "    def __add__(u, v):\n",
    "        return Vector(u.x + v.x, u.y + v.y)\n",
    "    \n",
    "    def scale(u, c):\n",
    "        return Vector(c*u.x, c*u.y)\n",
    "    \n",
    "class Circle:\n",
    "    def __init__(self, centre, r):\n",
    "        self.centre = centre\n",
    "        self.r = r\n",
    "        \n",
    "    def scale(self, c):\n",
    "        return Circle(self.centre, c*self.r)\n",
    "\n",
    "# Usage example\n",
    "\n",
    "p1 = Vector(0, 0)\n",
    "p2 = Vector(1, 1)\n",
    "centre = p1 + p2.scale(2)\n",
    "radius = 2\n",
    "mycircle = Circle(centre, radius)\n",
    "scaled_circle = mycircle.scale(3)\n",
    "\n",
    "print(scaled_circle.centre.x, scaled_circle.centre.y, scaled_circle.r)"
   ]
  },
  {
   "cell_type": "markdown",
   "metadata": {},
   "source": [
    "Add error handling to the above code such that, if the user attempts to create a circle with negative radius, the code will raise an exception with the error string `circle must have a positive radius`. Similarly, if the user attempts to scale a circle by a negative number, the code should raise an exception with the error string `cannot scale circle by a negative number`. *Make sure you copy these error strings* **precisely**.\n",
    "\n",
    "You can test your error handling by running the following:"
   ]
  },
  {
   "cell_type": "code",
   "execution_count": null,
   "metadata": {},
   "outputs": [],
   "source": [
    "centre = Vector(0, 0)\n",
    "circ1 = Circle(centre, 1)"
   ]
  },
  {
   "cell_type": "code",
   "execution_count": null,
   "metadata": {},
   "outputs": [],
   "source": [
    "circ2 = Circle(centre, -1) # should raise an exception"
   ]
  },
  {
   "cell_type": "code",
   "execution_count": null,
   "metadata": {},
   "outputs": [],
   "source": [
    "circ1.scale(-1) # should raise an exception"
   ]
  }
 ],
 "metadata": {
  "kernelspec": {
   "display_name": "Python 3",
   "language": "python",
   "name": "python3"
  },
  "language_info": {
   "codemirror_mode": {
    "name": "ipython",
    "version": 3
   },
   "file_extension": ".py",
   "mimetype": "text/x-python",
   "name": "python",
   "nbconvert_exporter": "python",
   "pygments_lexer": "ipython3",
   "version": "3.7.1"
  }
 },
 "nbformat": 4,
 "nbformat_minor": 2
}
