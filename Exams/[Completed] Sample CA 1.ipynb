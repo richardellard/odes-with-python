{
 "cells": [
  {
   "cell_type": "markdown",
   "metadata": {},
   "source": [
    "The time allowed for this examination is **50 minutes**. This examination is **open-book** and you may use any material on Brightspace. When you have completed the examination, make sure all changes to this notebook have been saved (**File -> Save and Checkpoint**) and then upload the notebook to Brightspace. Follow the instructions in each question **precisely**. This examination will be marked out of a total of **33 marks**. Please attempt **all questions**."
   ]
  },
  {
   "cell_type": "markdown",
   "metadata": {},
   "source": [
    "# Question one (6 marks)"
   ]
  },
  {
   "cell_type": "markdown",
   "metadata": {},
   "source": [
    "In parts **(a)**, **(b)** and **(c)** below, create a *list*, *tuple* and *set*, respectively, containing the integers 0 through 5, inclusive, that is, $0, 1, 2, 3, 4, 5.$"
   ]
  },
  {
   "cell_type": "markdown",
   "metadata": {},
   "source": [
    "**(a)** Name your list `mylist`: **(2 marks)**"
   ]
  },
  {
   "cell_type": "code",
   "execution_count": 1,
   "metadata": {},
   "outputs": [],
   "source": [
    "mylist = [0, 1, 2, 3, 4, 5]"
   ]
  },
  {
   "cell_type": "markdown",
   "metadata": {},
   "source": [
    "**(b)** Name your tuple `mytuple`: **(2 marks)**"
   ]
  },
  {
   "cell_type": "code",
   "execution_count": 2,
   "metadata": {},
   "outputs": [],
   "source": [
    "mytuple = (0, 1, 2, 3, 4, 5)"
   ]
  },
  {
   "cell_type": "markdown",
   "metadata": {},
   "source": [
    "**(c)** Name your set `myset`: **(2 marks)**"
   ]
  },
  {
   "cell_type": "code",
   "execution_count": 3,
   "metadata": {},
   "outputs": [],
   "source": [
    "myset = {0, 1, 2, 3, 4, 5}"
   ]
  },
  {
   "cell_type": "markdown",
   "metadata": {},
   "source": [
    "# Question two (11 marks)"
   ]
  },
  {
   "cell_type": "markdown",
   "metadata": {},
   "source": [
    "**(a)** Write a function called ``sum_plus_1`` which takes three numbers, say $x, y, z$, as arguments and returns the sum of all three numbers plus one, i.e. returns $x+y+z+1$. **(2 marks)**"
   ]
  },
  {
   "cell_type": "code",
   "execution_count": 4,
   "metadata": {},
   "outputs": [
    {
     "data": {
      "text/plain": [
       "7"
      ]
     },
     "execution_count": 4,
     "metadata": {},
     "output_type": "execute_result"
    }
   ],
   "source": [
    "def sum_plus_one(x, y, z):\n",
    "    return x + y + z + 1\n",
    "\n",
    "sum_plus_one(1, 2, 3)"
   ]
  },
  {
   "cell_type": "markdown",
   "metadata": {},
   "source": [
    "**(b)** Write a function called `maximum` which takes two numerical arguments `x` and `y` and returns the greater of the two, that is, the function returns $x$ if $x\\geq y$ and returns $y$ if $y\\geq x$. **(3 marks)**"
   ]
  },
  {
   "cell_type": "code",
   "execution_count": 5,
   "metadata": {},
   "outputs": [
    {
     "data": {
      "text/plain": [
       "3"
      ]
     },
     "execution_count": 5,
     "metadata": {},
     "output_type": "execute_result"
    }
   ],
   "source": [
    "def maximum(x, y):\n",
    "    if x >=y:\n",
    "        return x\n",
    "    return y\n",
    "    \n",
    "maximum(3, 2)"
   ]
  },
  {
   "cell_type": "markdown",
   "metadata": {},
   "source": [
    "**(c)** Write a function called `contains_zero` which takes a list of numbers as its only argument and returns `True` if the list contains the number 0 and ``False`` otherwise. **(3 marks)**"
   ]
  },
  {
   "cell_type": "code",
   "execution_count": 6,
   "metadata": {},
   "outputs": [
    {
     "name": "stdout",
     "output_type": "stream",
     "text": [
      "True\n",
      "False\n"
     ]
    }
   ],
   "source": [
    "def contains_zero(l):\n",
    "    for x in l:\n",
    "        if x == 0:\n",
    "            return True\n",
    "    return False\n",
    "\n",
    "print(contains_zero([1, -2, 2, 0, 5]))\n",
    "print(contains_zero([1, -2, 2, 0.1, 5]))"
   ]
  },
  {
   "cell_type": "markdown",
   "metadata": {},
   "source": [
    "**(d)** Write a function called `count_zeros` which takes a list of numbers as its only argument and returns a count of how many zeros are in the list. **(3 marks)**"
   ]
  },
  {
   "cell_type": "code",
   "execution_count": 7,
   "metadata": {},
   "outputs": [
    {
     "data": {
      "text/plain": [
       "3"
      ]
     },
     "execution_count": 7,
     "metadata": {},
     "output_type": "execute_result"
    }
   ],
   "source": [
    "def count_zeros(l):\n",
    "    count = 0\n",
    "    for x in l:\n",
    "        if x == 0:\n",
    "            count += 1      \n",
    "    return count\n",
    "\n",
    "count_zeros([3, -2, 0, 12, 1, 0, 0, 5])"
   ]
  },
  {
   "cell_type": "markdown",
   "metadata": {},
   "source": [
    "# Question three (6 marks)"
   ]
  },
  {
   "cell_type": "markdown",
   "metadata": {},
   "source": [
    "**(a)** Create a `Book` class with the following fields: `author`, `title`, `num_pages`. Give your class an appropriate constructor, so that new book objects can be created as follows: `b = Book('Douglas Adams', 'The Hitchhikers Guide to the Galaxy', 42)`. **(4 marks)**\n",
    "\n",
    "**(b)** Give your `Book` class a `rip_out_page` method, which reduces the number of pages by 1. **(2 marks)**"
   ]
  },
  {
   "cell_type": "code",
   "execution_count": 8,
   "metadata": {},
   "outputs": [
    {
     "data": {
      "text/plain": [
       "41"
      ]
     },
     "execution_count": 8,
     "metadata": {},
     "output_type": "execute_result"
    }
   ],
   "source": [
    "class Book:\n",
    "    def __init__(self, author, title, num_pages):\n",
    "        self.author = author\n",
    "        self.title = title\n",
    "        self.num_pages = num_pages\n",
    "        \n",
    "    def rip_out_page(self):\n",
    "        self.num_pages -= 1\n",
    "        \n",
    "b = Book('Douglas Adams', 'The Hitchhikers Guide to the Galaxy', 42)\n",
    "b.rip_out_page()\n",
    "b.num_pages"
   ]
  },
  {
   "cell_type": "markdown",
   "metadata": {},
   "source": [
    "# Question four (10 marks + 2 bonus marks)"
   ]
  },
  {
   "cell_type": "markdown",
   "metadata": {},
   "source": [
    "Recall that, for any two vectors $(u_x,u_y,u_z)$ and $(v_x,v_y,v_z)$ in $\\mathbb{R}^3$, and any scalar $c$, vector addition and scalar multiplication are defined by\n",
    "$$\n",
    "    (u_x,u_y,u_z)+(v_x,v_y,v_z)=(u_x+v_x,u_y+v_y,u_z+v_z)\n",
    "$$\n",
    "and\n",
    "$$\n",
    "    c(u_x,u_y,u_z)=(cu_x,cu_y,cu_z),\n",
    "$$\n",
    "respectively.\n",
    "\n",
    "The code below implements a ``Vector`` class with the above operations (with vector addition available via the `+` operator and returning a new `Vector` object, and printing of vectors to the screen accessible via the built-in Python `print` function); however, the code in the ``Vector`` class  contains **a number of mistakes**."
   ]
  },
  {
   "cell_type": "code",
   "execution_count": 9,
   "metadata": {},
   "outputs": [
    {
     "name": "stdout",
     "output_type": "stream",
     "text": [
      "(0, 3, 2)\n",
      "(-2, 2, -2)\n"
     ]
    }
   ],
   "source": [
    "class Vector:\n",
    "    def __init__(self, x, y, z):\n",
    "        self.x = x\n",
    "        self.y = y\n",
    "        self.z = z\n",
    "        \n",
    "    def __add__(u, v):\n",
    "        return Vector(u.x + v.x, u.y + v.y, u.z + v.z)\n",
    "    \n",
    "    def scale(u, c):\n",
    "        return Vector(c*u.x, c*u.y, c*u.z)\n",
    "    \n",
    "    def __str__(u):\n",
    "        return '(' + str(u.x) + ', ' + str(u.y) + ', ' + str(u.z) + ')'\n",
    "    \n",
    "    def __eq__(u, v):\n",
    "        return u.x == v.x and u.y == v.y and u.z == v.z\n",
    "\n",
    "# Usage example\n",
    "\n",
    "u = Vector(-1, 1, -1)\n",
    "v = Vector(1, 2, 3)\n",
    "\n",
    "print(u + v)\n",
    "print(u.scale(2))"
   ]
  },
  {
   "cell_type": "markdown",
   "metadata": {},
   "source": [
    "**(a)** Fix the mistakes in the above code. **(4 marks)**"
   ]
  },
  {
   "cell_type": "markdown",
   "metadata": {},
   "source": [
    "**(b)** Equality of vectors is defined component-wise, i.e. two vectors $(u_x,u_y,u_z)$ and $(v_x,v_y,v_z)$ in $\\mathbb{R}^3$ are equal if and only if $u_x=v_x$, $u_y=v_y$ and $u_z=v_z$. Write an `__eq__` method on the `Vector` class (above) which checks for vector equality, that is, `u.__eq__(v)` should return `True` if $\\vec{u}=\\vec{v}$ and `False` otherwise. **(6 marks)**\n",
    "\n",
    "You can check that your code is working by running the following:"
   ]
  },
  {
   "cell_type": "code",
   "execution_count": 10,
   "metadata": {},
   "outputs": [
    {
     "name": "stdout",
     "output_type": "stream",
     "text": [
      "False\n",
      "True\n"
     ]
    }
   ],
   "source": [
    "u = Vector(1, 2, 3)\n",
    "v = Vector(-1, 0, 1)\n",
    "w = Vector(-1, 0, 1)\n",
    "\n",
    "print(u.__eq__(v)) # should return False\n",
    "print(v.__eq__(w)) # should return True"
   ]
  },
  {
   "cell_type": "markdown",
   "metadata": {},
   "source": [
    "**Bonus question:** In part 4 (b), why do you think I asked you to name the method `__eq__`? Type your *brief* answer in plain text in the cell below (this part will be manually graded). **(2 bonus marks)**"
   ]
  },
  {
   "cell_type": "markdown",
   "metadata": {},
   "source": [
    "Equality can then be checked via the `==` operator:"
   ]
  },
  {
   "cell_type": "code",
   "execution_count": 11,
   "metadata": {},
   "outputs": [
    {
     "name": "stdout",
     "output_type": "stream",
     "text": [
      "False\n",
      "True\n"
     ]
    }
   ],
   "source": [
    "print(u == v)\n",
    "print(v == w)"
   ]
  }
 ],
 "metadata": {
  "kernelspec": {
   "display_name": "Python 3",
   "language": "python",
   "name": "python3"
  },
  "language_info": {
   "codemirror_mode": {
    "name": "ipython",
    "version": 3
   },
   "file_extension": ".py",
   "mimetype": "text/x-python",
   "name": "python",
   "nbconvert_exporter": "python",
   "pygments_lexer": "ipython3",
   "version": "3.7.1"
  }
 },
 "nbformat": 4,
 "nbformat_minor": 2
}
