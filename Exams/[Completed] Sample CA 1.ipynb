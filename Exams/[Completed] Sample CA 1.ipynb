{
 "cells": [
  {
   "cell_type": "markdown",
   "metadata": {},
   "source": [
    "**The allowed time for this examination is 50 minutes. This examination is open-book and you may use any material on Brightspace. When you have completed the examination, make sure all changes to this notebook have been saved (File -> Save and Checkpoint) and then upload the notebook to Brightspace. Follow the instructions in each question *precisely*. This examination will be marked out of a total of 30 marks. Please attempt *all questions*.**"
   ]
  },
  {
   "cell_type": "markdown",
   "metadata": {},
   "source": [
    "# Question one (6 marks)"
   ]
  },
  {
   "cell_type": "markdown",
   "metadata": {},
   "source": [
    "**(a)** Create a list called ``digits`` which stores the integers 0 through 9 (inclusive) in ascending order. **(2 marks)**"
   ]
  },
  {
   "cell_type": "code",
   "execution_count": 15,
   "metadata": {},
   "outputs": [],
   "source": [
    "digits = [0, 1, 2, 3, 4, 5, 6, 7, 8, 9]"
   ]
  },
  {
   "cell_type": "markdown",
   "metadata": {},
   "source": [
    "**(b)** Create a *dictionary* called ``colour_codes`` which stores the following hex colour code key-value pairs:\n",
    "\n",
    "| Key     | Value    |\n",
    "|---------|----------|\n",
    "| 'white' | '#FFFFFF'|\n",
    "| 'red'   | '#FF0000'|\n",
    "| 'black' | '#FFFFFF'|\n",
    "\n",
    "**(2 marks)**"
   ]
  },
  {
   "cell_type": "code",
   "execution_count": 16,
   "metadata": {},
   "outputs": [],
   "source": [
    "colour_codes = {'white': '#FFFFFF', 'red': '#FF0000', 'black': '#FFFFFF'}"
   ]
  },
  {
   "cell_type": "markdown",
   "metadata": {},
   "source": [
    "**(c)** Create a *set* called ``S`` which contains the first six letters of the alphabet (a through f). **(2 marks)**"
   ]
  },
  {
   "cell_type": "code",
   "execution_count": 17,
   "metadata": {},
   "outputs": [],
   "source": [
    "S = {'a', 'b', 'c', 'd', 'e', 'f'}"
   ]
  },
  {
   "cell_type": "markdown",
   "metadata": {},
   "source": [
    "# Question two (8 marks)"
   ]
  },
  {
   "cell_type": "markdown",
   "metadata": {},
   "source": [
    "**(a)** Write a function called ``prod`` which takes three numbers as arguments and returns the product of all three numbers. **(2 marks)**"
   ]
  },
  {
   "cell_type": "code",
   "execution_count": 18,
   "metadata": {},
   "outputs": [],
   "source": [
    "def prod(x, y, z):\n",
    "    return x*y*z"
   ]
  },
  {
   "cell_type": "markdown",
   "metadata": {},
   "source": [
    "**(b)** Write a function called ``doubled`` which takes two numerical arguments ``x`` and ``y`` (in that order) and returns ``True`` if $x=2y$ and ``False`` otherwise. **(3 marks)**"
   ]
  },
  {
   "cell_type": "code",
   "execution_count": 19,
   "metadata": {},
   "outputs": [],
   "source": [
    "def doubled(x, y):\n",
    "    return x == 2*y"
   ]
  },
  {
   "cell_type": "markdown",
   "metadata": {},
   "source": [
    "**(c)** Write a function called ``contains_negatives`` which takes a list of integers as an argument and returns ``True`` if the list contains a number _strictly_ less than zero ($<0$) and ``False`` otherwise. **(3 marks)**"
   ]
  },
  {
   "cell_type": "code",
   "execution_count": 20,
   "metadata": {},
   "outputs": [],
   "source": [
    "def contains_negatives(lst):\n",
    "    for item in lst:\n",
    "        if item < 0:\n",
    "            return True\n",
    "    return False"
   ]
  },
  {
   "cell_type": "markdown",
   "metadata": {},
   "source": [
    "# Question three (6 marks)"
   ]
  },
  {
   "cell_type": "markdown",
   "metadata": {},
   "source": [
    "**(a)** Create a two-dimensional list named ``A`` which represents the matrix\n",
    "$$\n",
    "    A=\\left[\n",
    "        \\begin{array}{cccc}\n",
    "            1 & -1 & 0 & -3 \\\\\n",
    "            3 & 2 & -5 & 1 \\\\\n",
    "            0 & 6 & 4 & 2 \\\\\n",
    "            0 & 6 & 4 & 5 \\\\\n",
    "        \\end{array}\n",
    "    \\right],\n",
    "$$\n",
    "where ``A[i][j]`` evaluates to the entry in row $i+1$, column $j+1$. **(3 marks)**"
   ]
  },
  {
   "cell_type": "code",
   "execution_count": 21,
   "metadata": {},
   "outputs": [],
   "source": [
    "A = [[1, -1, 0, -3], [3, 2, -5, 1], [0, 6, 4, 2], [0, 6, 4, 5]]"
   ]
  },
  {
   "cell_type": "markdown",
   "metadata": {},
   "source": [
    "**(b)** Write a function called ``entry``, which takes a two-dimensional list (matrix) $M$ like the one above, and two additional integer arguments $i$ and $j$, and returns the $(i,j)$-entry of $M$, for example, for the matrix above, ``entry(A,2,3)`` should return -5. **(3 marks)**"
   ]
  },
  {
   "cell_type": "code",
   "execution_count": 38,
   "metadata": {},
   "outputs": [],
   "source": [
    "def entry(M, i, j):\n",
    "    return M[i-1][j-1]"
   ]
  },
  {
   "cell_type": "markdown",
   "metadata": {},
   "source": [
    "# Question four (10 marks)"
   ]
  },
  {
   "cell_type": "markdown",
   "metadata": {},
   "source": [
    "Recall that, for any two vectors $(u_x,u_y,u_z)$ and $(v_x,v_y,v_z)$ in $\\mathbb{R}^3$, and any scalar $c$, vector addition and scalar multiplication are defined by\n",
    "$$\n",
    "    (u_x,u_y,u_z)+(v_x,v_y,v_z)=(u_x+v_x,u_y+v_y,u_z+v_z)\n",
    "$$\n",
    "and\n",
    "$$\n",
    "    c(u_x,u_y,u_z)=(cu_x,cu_y,cu_z),\n",
    "$$\n",
    "respectively.\n",
    "\n",
    "The code below implements a ``Vector`` class with the above operations; however, the code in the ``Vector`` class  contains **a number of mistakes**.\n",
    "\n",
    "**Note:** The ``__str__`` method below simply allows the vector object to be printed to the screen using Python's built-in ``print`` function; the ``__str__`` method does not contain any mistakes."
   ]
  },
  {
   "cell_type": "code",
   "execution_count": 54,
   "metadata": {},
   "outputs": [
    {
     "name": "stdout",
     "output_type": "stream",
     "text": [
      "(0, 2, 4)\n",
      "(2, 4, 6)\n"
     ]
    }
   ],
   "source": [
    "class Vector:\n",
    "    def __init__(self, x0, y0, z0): # self, underscores\n",
    "        self.x = x0 # self.\n",
    "        self.y = y0\n",
    "        self.z = z0\n",
    "        \n",
    "    def __add__(u, v):\n",
    "        return Vector(u.x + v.x, u.y + v.y, u.z + v.z)\n",
    "    \n",
    "    def scale(u, c): # no underscores\n",
    "        return Vector(c*u.x, c*u.y, c*u.z)\n",
    "    \n",
    "    def __str__(u):\n",
    "        return '(' + str(u.x) + ', ' + str(u.y) + ', ' + str(u.z) + ')'\n",
    "    \n",
    "    def dot(u, v):\n",
    "        return u.x*v.x + u.y*v.y + u.z*v.z\n",
    "    \n",
    "# Usage example\n",
    "u = Vector(1, 2, 3)\n",
    "v = Vector(-1, 0, 1)\n",
    "print(u + v)\n",
    "print(u.scale(2))"
   ]
  },
  {
   "cell_type": "markdown",
   "metadata": {},
   "source": [
    "**(a)** Fix the mistakes in the above code. **(4 marks)**"
   ]
  },
  {
   "cell_type": "markdown",
   "metadata": {},
   "source": [
    "**(b)** The dot product of two vectors is defined by\n",
    "$$\n",
    "    (u_x,u_y,u_z)\\cdot(v_x,v_y,v_z)=u_xv_x+u_yv_y+u_zv_z.\n",
    "$$\n",
    "Add a ``dot`` method to the ``Vector`` class above such that ``u.dot(v)`` returns the number $\\vec{v}\\cdot \\vec{v}$. You can check that your code is working by running the following:"
   ]
  },
  {
   "cell_type": "code",
   "execution_count": 24,
   "metadata": {},
   "outputs": [
    {
     "name": "stdout",
     "output_type": "stream",
     "text": [
      "2\n"
     ]
    }
   ],
   "source": [
    "u = Vector(1, 2, 3)\n",
    "v = Vector(-1, 0, 1)\n",
    "print(u.dot(v))"
   ]
  },
  {
   "cell_type": "markdown",
   "metadata": {},
   "source": [
    "**(6 marks)**"
   ]
  }
 ],
 "metadata": {
  "kernelspec": {
   "display_name": "Python 3",
   "language": "python",
   "name": "python3"
  },
  "language_info": {
   "codemirror_mode": {
    "name": "ipython",
    "version": 3
   },
   "file_extension": ".py",
   "mimetype": "text/x-python",
   "name": "python",
   "nbconvert_exporter": "python",
   "pygments_lexer": "ipython3",
   "version": "3.7.1"
  }
 },
 "nbformat": 4,
 "nbformat_minor": 2
}
