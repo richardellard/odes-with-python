{
 "cells": [
  {
   "cell_type": "markdown",
   "metadata": {},
   "source": [
    "The time allowed for this examination is **50 minutes**. This examination is **open-book** and you may use any material on Brightspace. When you have completed the examination, make sure all changes to this notebook have been saved (**File -> Save and Checkpoint**) and then upload the notebook to Brightspace. Follow the instructions in each question **precisely**. This examination will be marked out of a total of **30 marks**. Please attempt **all questions**."
   ]
  },
  {
   "cell_type": "markdown",
   "metadata": {},
   "source": [
    "# Question one (6 marks)\n",
    "\n",
    "The following recursive function is designed to calculate the sum $1+2+\\cdots+n$ for any given $n$; however, the functions contains a missing line. Fill in the missing line."
   ]
  },
  {
   "cell_type": "code",
   "execution_count": 36,
   "metadata": {},
   "outputs": [
    {
     "name": "stdout",
     "output_type": "stream",
     "text": [
      "55\n"
     ]
    }
   ],
   "source": [
    "def sum_to(n):\n",
    "    if n == 1:\n",
    "        return 1\n",
    "    return sum_to(n-1) + n\n",
    "    \n",
    "# testing\n",
    "print(sum_to(10)) # should equal 55"
   ]
  },
  {
   "cell_type": "markdown",
   "metadata": {},
   "source": [
    "# Question two (9 marks)\n",
    "\n",
    "Consider the following list and simple functions:"
   ]
  },
  {
   "cell_type": "code",
   "execution_count": 37,
   "metadata": {},
   "outputs": [],
   "source": [
    "my_list = [9, 11, -37, 21, -107, 2, 63, -24, 113, -72, -1, -27, 30]\n",
    "\n",
    "def cube(x):\n",
    "    return x**3\n",
    "\n",
    "def is_negative(x):\n",
    "    # returns True if x is negative, False otherwise\n",
    "    return x < 0\n",
    "\n",
    "def multiply(x, y):\n",
    "    return x * y"
   ]
  },
  {
   "cell_type": "markdown",
   "metadata": {},
   "source": [
    "**(a)** Use the built-in `map` function to produce a new list called `mapped_list` which contains the cubes of the entries in `my_list`. **(3 marks)**"
   ]
  },
  {
   "cell_type": "code",
   "execution_count": 38,
   "metadata": {},
   "outputs": [
    {
     "name": "stdout",
     "output_type": "stream",
     "text": [
      "[729, 1331, -50653, 9261, -1225043, 8, 250047, -13824, 1442897, -373248, -1, -19683, 27000]\n"
     ]
    }
   ],
   "source": [
    "mapped_list = list(map(cube, my_list))\n",
    "print(mapped_list)"
   ]
  },
  {
   "cell_type": "markdown",
   "metadata": {},
   "source": [
    "**(b)** Use the built-in `filter` function to produce a new list called `filtered_list` which contains only the negative entries in `my_list`. **(3 marks)**"
   ]
  },
  {
   "cell_type": "code",
   "execution_count": 39,
   "metadata": {},
   "outputs": [
    {
     "name": "stdout",
     "output_type": "stream",
     "text": [
      "[-37, -107, -24, -72, -1, -27]\n"
     ]
    }
   ],
   "source": [
    "filtered_list = list(filter(is_negative, my_list))\n",
    "print(filtered_list)"
   ]
  },
  {
   "cell_type": "markdown",
   "metadata": {},
   "source": [
    "**(c)** Use the `reduce` function from the `functools` module to calculate the product of all the entries in `my_list`. Store this number in a variable called `product`. **(3 marks)**"
   ]
  },
  {
   "cell_type": "code",
   "execution_count": 40,
   "metadata": {},
   "outputs": [
    {
     "name": "stdout",
     "output_type": "stream",
     "text": [
      "164027904501162240\n"
     ]
    }
   ],
   "source": [
    "from functools import reduce\n",
    "\n",
    "product = reduce(multiply, my_list)\n",
    "print(product)"
   ]
  },
  {
   "cell_type": "markdown",
   "metadata": {},
   "source": [
    "# Question three (15 marks)\n",
    "\n",
    "The following `Vector` class represents a vector in $\\mathbb{R}^n$. Vectors are created by passing a list of $n$ coordinates to the `Vector` constructor. A `__len__` method has been provided which returns the length $n$ of the vector (recall that, if a collection `u` has a `__len__` method, then this is most commonly called via the built-in `len` function, i.e. `len(u)`). An `__add__` method has also been provided to implement the usual vector addition (see the \"example usage\" in the code)."
   ]
  },
  {
   "cell_type": "code",
   "execution_count": 41,
   "metadata": {},
   "outputs": [
    {
     "name": "stdout",
     "output_type": "stream",
     "text": [
      "4\n",
      "[0, 1, 2, 3]\n"
     ]
    }
   ],
   "source": [
    "class Vector:\n",
    "    def __init__(self, coordinates):\n",
    "        self.coordinates = coordinates\n",
    "        \n",
    "    def __len__(self):\n",
    "        return len(self.coordinates)\n",
    "        \n",
    "    def __add__(u, v):\n",
    "        if len(u) != len(v):\n",
    "            raise Exception('vectors to be added must be of equal length')\n",
    "        return Vector([u.coordinates[i]+v.coordinates[i] for i in range(len(u))])\n",
    "        \n",
    "    def __str__(self):\n",
    "        return str(self.coordinates)\n",
    "    \n",
    "    def __getitem__(self, i):\n",
    "        return self.coordinates[i]\n",
    "    \n",
    "    def __setitem__(self, i, new_coordinate):\n",
    "        self.coordinates[i] = new_coordinate\n",
    "    \n",
    "# Example usage\n",
    "u = Vector([1, 2, 3, 4])\n",
    "v = Vector([-1, -1, -1, -1])\n",
    "print(len(u))\n",
    "print(u + v)"
   ]
  },
  {
   "cell_type": "markdown",
   "metadata": {},
   "source": [
    "**(a)** Modify the code above to make the `Vector` object indexable. Once this is complete, you should be able to access the $i$-th coordinate of a vector using the square brackets operator, as in the example code below. *Hint: recall the `__getitem__` and `__setitem__` methods.* **(9 marks)**"
   ]
  },
  {
   "cell_type": "code",
   "execution_count": 42,
   "metadata": {},
   "outputs": [
    {
     "data": {
      "text/plain": [
       "6"
      ]
     },
     "execution_count": 42,
     "metadata": {},
     "output_type": "execute_result"
    }
   ],
   "source": [
    "u = Vector([1, -5, 3, 2, 6, -3])\n",
    "\n",
    "u[1] = 0 # should change the first coordinate, namely -5, to 0\n",
    "u[4] # should return the 4th coordinate, namely 6"
   ]
  },
  {
   "cell_type": "code",
   "execution_count": 43,
   "metadata": {},
   "outputs": [
    {
     "data": {
      "text/plain": [
       "0"
      ]
     },
     "execution_count": 43,
     "metadata": {},
     "output_type": "execute_result"
    }
   ],
   "source": [
    "u[1]"
   ]
  },
  {
   "cell_type": "markdown",
   "metadata": {},
   "source": [
    "**(b)** Add some error handling to the `__add__` method: if the user attempts to add two vectors of different lengths, the `__add__` method should raise an exception with the string `vectors to be added must be of equal length` (make sure you copy this error string *precisely*). **(6 marks)**"
   ]
  },
  {
   "cell_type": "code",
   "execution_count": 44,
   "metadata": {},
   "outputs": [
    {
     "ename": "Exception",
     "evalue": "vectors to be added must be of equal length",
     "output_type": "error",
     "traceback": [
      "\u001b[0;31m---------------------------------------------------------------------------\u001b[0m",
      "\u001b[0;31mException\u001b[0m                                 Traceback (most recent call last)",
      "\u001b[0;32m<ipython-input-44-f72eb3af7557>\u001b[0m in \u001b[0;36m<module>\u001b[0;34m\u001b[0m\n\u001b[1;32m      2\u001b[0m \u001b[0mu\u001b[0m \u001b[0;34m=\u001b[0m \u001b[0mVector\u001b[0m\u001b[0;34m(\u001b[0m\u001b[0;34m[\u001b[0m\u001b[0;36m1\u001b[0m\u001b[0;34m,\u001b[0m \u001b[0;34m-\u001b[0m\u001b[0;36m5\u001b[0m\u001b[0;34m,\u001b[0m \u001b[0;36m3\u001b[0m\u001b[0;34m,\u001b[0m \u001b[0;36m2\u001b[0m\u001b[0;34m]\u001b[0m\u001b[0;34m)\u001b[0m\u001b[0;34m\u001b[0m\u001b[0;34m\u001b[0m\u001b[0m\n\u001b[1;32m      3\u001b[0m \u001b[0mv\u001b[0m \u001b[0;34m=\u001b[0m \u001b[0mVector\u001b[0m\u001b[0;34m(\u001b[0m\u001b[0;34m[\u001b[0m\u001b[0;36m0\u001b[0m\u001b[0;34m,\u001b[0m \u001b[0;34m-\u001b[0m\u001b[0;36m1\u001b[0m\u001b[0;34m,\u001b[0m \u001b[0;36m2\u001b[0m\u001b[0;34m,\u001b[0m \u001b[0;36m5\u001b[0m\u001b[0;34m,\u001b[0m \u001b[0;36m7\u001b[0m\u001b[0;34m]\u001b[0m\u001b[0;34m)\u001b[0m\u001b[0;34m\u001b[0m\u001b[0;34m\u001b[0m\u001b[0m\n\u001b[0;32m----> 4\u001b[0;31m \u001b[0mu\u001b[0m \u001b[0;34m+\u001b[0m \u001b[0mv\u001b[0m \u001b[0;31m# should raise an error\u001b[0m\u001b[0;34m\u001b[0m\u001b[0;34m\u001b[0m\u001b[0m\n\u001b[0m",
      "\u001b[0;32m<ipython-input-41-1ef1f751e571>\u001b[0m in \u001b[0;36m__add__\u001b[0;34m(u, v)\u001b[0m\n\u001b[1;32m      8\u001b[0m     \u001b[0;32mdef\u001b[0m \u001b[0m__add__\u001b[0m\u001b[0;34m(\u001b[0m\u001b[0mu\u001b[0m\u001b[0;34m,\u001b[0m \u001b[0mv\u001b[0m\u001b[0;34m)\u001b[0m\u001b[0;34m:\u001b[0m\u001b[0;34m\u001b[0m\u001b[0;34m\u001b[0m\u001b[0m\n\u001b[1;32m      9\u001b[0m         \u001b[0;32mif\u001b[0m \u001b[0mlen\u001b[0m\u001b[0;34m(\u001b[0m\u001b[0mu\u001b[0m\u001b[0;34m)\u001b[0m \u001b[0;34m!=\u001b[0m \u001b[0mlen\u001b[0m\u001b[0;34m(\u001b[0m\u001b[0mv\u001b[0m\u001b[0;34m)\u001b[0m\u001b[0;34m:\u001b[0m\u001b[0;34m\u001b[0m\u001b[0;34m\u001b[0m\u001b[0m\n\u001b[0;32m---> 10\u001b[0;31m             \u001b[0;32mraise\u001b[0m \u001b[0mException\u001b[0m\u001b[0;34m(\u001b[0m\u001b[0;34m'vectors to be added must be of equal length'\u001b[0m\u001b[0;34m)\u001b[0m\u001b[0;34m\u001b[0m\u001b[0;34m\u001b[0m\u001b[0m\n\u001b[0m\u001b[1;32m     11\u001b[0m         \u001b[0;32mreturn\u001b[0m \u001b[0mVector\u001b[0m\u001b[0;34m(\u001b[0m\u001b[0;34m[\u001b[0m\u001b[0mu\u001b[0m\u001b[0;34m.\u001b[0m\u001b[0mcoordinates\u001b[0m\u001b[0;34m[\u001b[0m\u001b[0mi\u001b[0m\u001b[0;34m]\u001b[0m\u001b[0;34m+\u001b[0m\u001b[0mv\u001b[0m\u001b[0;34m.\u001b[0m\u001b[0mcoordinates\u001b[0m\u001b[0;34m[\u001b[0m\u001b[0mi\u001b[0m\u001b[0;34m]\u001b[0m \u001b[0;32mfor\u001b[0m \u001b[0mi\u001b[0m \u001b[0;32min\u001b[0m \u001b[0mrange\u001b[0m\u001b[0;34m(\u001b[0m\u001b[0mlen\u001b[0m\u001b[0;34m(\u001b[0m\u001b[0mu\u001b[0m\u001b[0;34m)\u001b[0m\u001b[0;34m)\u001b[0m\u001b[0;34m]\u001b[0m\u001b[0;34m)\u001b[0m\u001b[0;34m\u001b[0m\u001b[0;34m\u001b[0m\u001b[0m\n\u001b[1;32m     12\u001b[0m \u001b[0;34m\u001b[0m\u001b[0m\n",
      "\u001b[0;31mException\u001b[0m: vectors to be added must be of equal length"
     ]
    }
   ],
   "source": [
    "# testing\n",
    "u = Vector([1, -5, 3, 2])\n",
    "v = Vector([0, -1, 2, 5, 7])\n",
    "u + v # should raise an error"
   ]
  },
  {
   "cell_type": "code",
   "execution_count": 51,
   "metadata": {},
   "outputs": [
    {
     "data": {
      "text/plain": [
       "30"
      ]
     },
     "execution_count": 51,
     "metadata": {},
     "output_type": "execute_result"
    }
   ],
   "source": [
    "import grader\n",
    "import types\n",
    "\n",
    "def grade_exam():\n",
    "    score = 0\n",
    "    \n",
    "    # Question 1: 6 marks\n",
    "    \n",
    "    def _sum_to(n):\n",
    "        if n == 1:\n",
    "            return 1\n",
    "        return sum_to(n-1) + n\n",
    "    try:\n",
    "        if grader.cmpintfunc(sum_to, _sum_to, 1, 1, 20, 10):\n",
    "            score += 6\n",
    "    except:\n",
    "        pass\n",
    "    \n",
    "    # Question 2\n",
    "    \n",
    "    # (a) 3 marks\n",
    "    _mapped_list = list(map(cube, my_list))\n",
    "    try:\n",
    "        if isinstance(mapped_list, list) or isinstance(mapped_list, map):\n",
    "            score += 1\n",
    "            if grader.cmplist(list(mapped_list), _mapped_list):\n",
    "                score += 2\n",
    "    except NameError:\n",
    "        pass\n",
    "    \n",
    "    # (b) 3 marks\n",
    "    _filtered_list = list(filter(is_negative, my_list))\n",
    "    try:\n",
    "        if isinstance(filtered_list, list) or isinstance(filtered_list, filter):\n",
    "            score += 1\n",
    "            if grader.cmplist(list(filtered_list), _filtered_list):\n",
    "                score += 2\n",
    "    except NameError:\n",
    "        pass\n",
    "    \n",
    "    # (c) 3 marks\n",
    "    _product = reduce(multiply, my_list)\n",
    "    try:\n",
    "        if isinstance(product, int):\n",
    "            score += 1\n",
    "            if product == _product:\n",
    "                score += 2\n",
    "    except NameError:\n",
    "        pass\n",
    "\n",
    "    # Question 3\n",
    "    \n",
    "    # (a) 9 marks\n",
    "    try:\n",
    "        if isinstance(Vector.__getitem__, types.FunctionType):\n",
    "            score += 1\n",
    "            if grader.numparams(Vector.__getitem__) == 2:\n",
    "                score += 1\n",
    "    except (NameError, AttributeError):\n",
    "        pass\n",
    "    try:\n",
    "        vec = Vector([9, -11, 2, 4, 90, 17, -12])\n",
    "        if vec[4]==90:\n",
    "            score += 2\n",
    "    except:\n",
    "        pass\n",
    "    try:\n",
    "        if isinstance(Vector.__setitem__, types.FunctionType):\n",
    "            score += 1\n",
    "            if grader.numparams(Vector.__setitem__) == 3:\n",
    "                score += 1\n",
    "    except (NameError, AttributeError):\n",
    "        pass\n",
    "    try:\n",
    "        vec = Vector([9, -11, 2, 4, 90, 17, -12])\n",
    "        vec[5] = 3916\n",
    "        score += 1\n",
    "        if vec.coordinates[5] == 3916:\n",
    "            score += 2\n",
    "    except:\n",
    "        pass\n",
    "    \n",
    "    # (b) 6 marks\n",
    "    u = Vector([1, -5, 3, 2])\n",
    "    v = Vector([0, -1, 2, 5])\n",
    "    w = Vector([0, -1, 2, 5, 7])\n",
    "    try:\n",
    "        u + v\n",
    "        score += 2\n",
    "    except:\n",
    "        pass\n",
    "    try:\n",
    "        u + w\n",
    "    except Exception as e:\n",
    "        score += 2\n",
    "        if str(e) == 'vectors to be added must be of equal length':\n",
    "            score += 2\n",
    "        \n",
    "    return score\n",
    "        \n",
    "    \n",
    "grade_exam()"
   ]
  }
 ],
 "metadata": {
  "kernelspec": {
   "display_name": "Python 3",
   "language": "python",
   "name": "python3"
  },
  "language_info": {
   "codemirror_mode": {
    "name": "ipython",
    "version": 3
   },
   "file_extension": ".py",
   "mimetype": "text/x-python",
   "name": "python",
   "nbconvert_exporter": "python",
   "pygments_lexer": "ipython3",
   "version": "3.7.1"
  }
 },
 "nbformat": 4,
 "nbformat_minor": 2
}
