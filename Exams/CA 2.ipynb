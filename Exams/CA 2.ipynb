{
 "cells": [
  {
   "cell_type": "markdown",
   "metadata": {},
   "source": [
    "The time allowed for this examination is **50 minutes**. This examination is **open-book** and you may use any material on Brightspace. When you have completed the examination, make sure all changes to this notebook have been saved (**File -> Save and Checkpoint**) and then upload the notebook to Brightspace. Follow the instructions in each question **precisely**. This examination will be marked out of a total of **30 marks**. Please attempt **all questions**."
   ]
  },
  {
   "cell_type": "markdown",
   "metadata": {},
   "source": [
    "# Question one (6 marks)\n",
    "\n",
    "The following recursive function is designed to calculate the sum $1+2+\\cdots+n$ for any given $n$; however, the functions contains a missing line. Fill in the missing line."
   ]
  },
  {
   "cell_type": "code",
   "execution_count": null,
   "metadata": {},
   "outputs": [],
   "source": [
    "def sum_to(n):\n",
    "    if n == 1:\n",
    "        return 1\n",
    "    # missing line\n",
    "    \n",
    "# testing\n",
    "print(sum_to(10)) # should equal 55"
   ]
  },
  {
   "cell_type": "markdown",
   "metadata": {},
   "source": [
    "# Question two (9 marks)\n",
    "\n",
    "Consider the following list and simple functions:"
   ]
  },
  {
   "cell_type": "code",
   "execution_count": null,
   "metadata": {},
   "outputs": [],
   "source": [
    "my_list = [9, 11, -37, 21, -107, 2, 63, -24, 113, -72, -1, -27, 30]\n",
    "\n",
    "def cube(x):\n",
    "    return x**3\n",
    "\n",
    "def is_negative(x):\n",
    "    # returns True if x is negative, False otherwise\n",
    "    return x < 0\n",
    "\n",
    "def multiply(x, y):\n",
    "    return x * y"
   ]
  },
  {
   "cell_type": "markdown",
   "metadata": {},
   "source": [
    "**(a)** Use the built-in `map` function to produce a new list called `mapped_list` which contains the cubes of the entries in `my_list`. **(3 marks)**"
   ]
  },
  {
   "cell_type": "code",
   "execution_count": null,
   "metadata": {},
   "outputs": [],
   "source": []
  },
  {
   "cell_type": "markdown",
   "metadata": {},
   "source": [
    "**(b)** Use the built-in `filter` function to produce a new list called `filtered_list` which contains only the negative entries in `my_list`. **(3 marks)**"
   ]
  },
  {
   "cell_type": "code",
   "execution_count": null,
   "metadata": {},
   "outputs": [],
   "source": []
  },
  {
   "cell_type": "markdown",
   "metadata": {},
   "source": [
    "**(c)** Use the `reduce` function from the `functools` module to calculate the product of all the entries in `my_list`. Store this number in a variable called `product`. **(3 marks)**"
   ]
  },
  {
   "cell_type": "code",
   "execution_count": null,
   "metadata": {},
   "outputs": [],
   "source": [
    "from functools import reduce\n",
    "\n"
   ]
  },
  {
   "cell_type": "markdown",
   "metadata": {},
   "source": [
    "# Question three (15 marks)\n",
    "\n",
    "The following `Vector` class represents a vector in $\\mathbb{R}^n$. Vectors are created by passing a list of $n$ coordinates to the `Vector` constructor. A `__len__` method has been provided which returns the length $n$ of the vector (recall that, if a collection `u` has a `__len__` method, then this is most commonly called via the built-in `len` function, i.e. `len(u)`). An `__add__` method has also been provided to implement the usual vector addition (see the \"example usage\" in the code)."
   ]
  },
  {
   "cell_type": "code",
   "execution_count": null,
   "metadata": {},
   "outputs": [],
   "source": [
    "class Vector:\n",
    "    def __init__(self, coordinates):\n",
    "        self.coordinates = coordinates\n",
    "        \n",
    "    def __len__(self):\n",
    "        return len(self.coordinates)\n",
    "        \n",
    "    def __add__(u, v):\n",
    "        return Vector([u.coordinates[i]+v.coordinates[i] for i in range(len(u))])\n",
    "        \n",
    "    def __str__(self):\n",
    "        return str(self.coordinates)\n",
    "    \n",
    "# Example usage\n",
    "u = Vector([1, 2, 3, 4])\n",
    "v = Vector([-1, -1, -1, -1])\n",
    "print(len(u))\n",
    "print(u + v)"
   ]
  },
  {
   "cell_type": "markdown",
   "metadata": {},
   "source": [
    "**(a)** Modify the code above to make the `Vector` object indexable. Once this is complete, you should be able to access the $i$-th coordinate of a vector using the square brackets operator, as in the example code below. *Hint: recall the `__getitem__` and `__setitem__` methods.* **(9 marks)**"
   ]
  },
  {
   "cell_type": "code",
   "execution_count": null,
   "metadata": {},
   "outputs": [],
   "source": [
    "u = Vector([1, -5, 3, 2, 6, -3])\n",
    "\n",
    "u[1] = 0 # should change the first coordinate, namely -5, to 0\n",
    "u[4] # should return the 4th coordinate, namely 6"
   ]
  },
  {
   "cell_type": "markdown",
   "metadata": {},
   "source": [
    "**(b)** Add some error handling to the `__add__` method: if the user attempts to add two vectors of different lengths, the `__add__` method should raise an exception with the string `vectors to be added must be of equal length` (make sure you copy this error string *precisely*). **(6 marks)**"
   ]
  },
  {
   "cell_type": "code",
   "execution_count": null,
   "metadata": {},
   "outputs": [],
   "source": [
    "# testing\n",
    "u = Vector([1, -5, 3, 2])\n",
    "v = Vector([0, -1, 2, 5, 7])\n",
    "u + v # should raise an error"
   ]
  }
 ],
 "metadata": {
  "kernelspec": {
   "display_name": "Python 3",
   "language": "python",
   "name": "python3"
  },
  "language_info": {
   "codemirror_mode": {
    "name": "ipython",
    "version": 3
   },
   "file_extension": ".py",
   "mimetype": "text/x-python",
   "name": "python",
   "nbconvert_exporter": "python",
   "pygments_lexer": "ipython3",
   "version": "3.7.1"
  }
 },
 "nbformat": 4,
 "nbformat_minor": 2
}
