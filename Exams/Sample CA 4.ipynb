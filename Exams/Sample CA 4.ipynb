{
 "cells": [
  {
   "cell_type": "markdown",
   "metadata": {},
   "source": [
    "The time allowed for this examination is **50 minutes**. This examination is **open-book** and you may use any material on Brightspace. When you have completed the assessment, make sure all changes to this notebook have been saved (**File -> Save and Checkpoint**) and then upload the notebook to Brightspace. Follow the instructions in each question **precisely**. This examination will be marked out of a total of **32 marks**. Please attempt **all questions**.\n",
    "\n",
    "*Write your answers on the handout provided when instructed to do so.*"
   ]
  },
  {
   "cell_type": "markdown",
   "metadata": {},
   "source": [
    "# Question one (16 marks)\n",
    "\n",
    "Consider the differential equation\n",
    "\n",
    "$$\n",
    "    \\frac{dy}{dx}=\\frac{3y}{x}+1.\n",
    "$$\n",
    "\n",
    "**(a)** Using the method of integrating factors, find (by hand) the particular solution $y(x)$ satisfying $y(-1)=-1/2$. *You should perform your calculations on the paper provided.*\n",
    "**(8 marks)**"
   ]
  },
  {
   "cell_type": "markdown",
   "metadata": {},
   "source": [
    "**(b)** Use ``matplotlib`` to plot the solution obtained in part (a) for $-1\\leq x\\leq1$. **(4 marks)**\n",
    " \n",
    "**(c)** On the same plot you generated above for part (b), use the function `scipy.integrate.odeint` to plot the solution curve corresponding to the initial condition $y(-1)=-1/4$ (this initial condition is different to the one given in part (a)). **(4 marks)**"
   ]
  },
  {
   "cell_type": "code",
   "execution_count": null,
   "metadata": {},
   "outputs": [],
   "source": []
  },
  {
   "cell_type": "markdown",
   "metadata": {},
   "source": [
    "# Question two (16 marks)\n",
    "\n",
    "Consider initial value problem \n",
    "\n",
    "$$\n",
    "    \\frac{d^2y}{dx^2}-4y=0, \\quad\\quad y(0)=1,\\quad y'(0)=0.\n",
    "$$"
   ]
  },
  {
   "cell_type": "markdown",
   "metadata": {},
   "source": [
    "**(a)** Find (by hand) the solution of the initial value problem. *You should perform your calculations on the paper provided.*\n",
    "**(8 marks)**"
   ]
  },
  {
   "cell_type": "markdown",
   "metadata": {},
   "source": [
    "**(b)** Use ``matplotlib`` to plot the solution obtained in part (a) for $-1\\leq x\\leq1$. **(4 marks)**"
   ]
  },
  {
   "cell_type": "code",
   "execution_count": null,
   "metadata": {},
   "outputs": [],
   "source": []
  },
  {
   "cell_type": "markdown",
   "metadata": {},
   "source": [
    "**(c)** By expressing the second-order equation as a coupled system of first-order equations, use ``odeint`` to plot the solution curve for $0\\leq x\\leq1$ (the solution curve should look identical to the right half of the  curve plotted in part (b)). **(4 marks)**"
   ]
  },
  {
   "cell_type": "code",
   "execution_count": null,
   "metadata": {},
   "outputs": [],
   "source": []
  }
 ],
 "metadata": {
  "kernelspec": {
   "display_name": "Python 3",
   "language": "python",
   "name": "python3"
  },
  "language_info": {
   "codemirror_mode": {
    "name": "ipython",
    "version": 3
   },
   "file_extension": ".py",
   "mimetype": "text/x-python",
   "name": "python",
   "nbconvert_exporter": "python",
   "pygments_lexer": "ipython3",
   "version": "3.7.1"
  }
 },
 "nbformat": 4,
 "nbformat_minor": 2
}
