{
 "cells": [
  {
   "cell_type": "markdown",
   "metadata": {},
   "source": [
    "Collections (sets, sequences, vectors, matrices, etc) are very important in mathematics, so it is worthwhile getting to know how they work in Python in more detail.\n",
    "\n",
    "Python has two basic collection types, namely *sequence* and *map*:\n",
    "\n",
    "- sequence types represent ordered sequences: ``list``, ``tuple``, ``range`` (discussed below), ``str`` (always immutable in Python), ``bytes`` (*immutable* sequence of bytes), ``bytearray`` (*mutable* sequence of bytes)\n",
    "- map types represent sets of key-value pairs: ``dict``\n",
    "\n",
    "(although there is only one built-in map type, you are free to create your own). Sequence/map types share a set of common operations (methods)."
   ]
  },
  {
   "cell_type": "markdown",
   "metadata": {},
   "source": [
    "# Sequence types"
   ]
  },
  {
   "cell_type": "markdown",
   "metadata": {},
   "source": [
    "Sequence types generally feature the following methods:\n",
    "\n",
    "- ``__add__``, ``__mul__`` (sequence concatenation, new object returned)\n",
    "- ``__getitem__``, ``__setitem__``, ``__delitem__`` (see examples below)\n",
    "- ``__contains__``, ``__len__`` (see examples below)\n",
    "- ``index``, ``count`` (both search for a particular value in the sequence - ``index`` returns the first index where the value is found, or throws an error if it is not; ``count`` returns a count of how many times the value is found)\n",
    "- ``remove`` (removes the first matching entry)\n",
    "- ``append`` (appends an element), ``extend`` (\"appends\" a sequence, but does so \"in place\", unlike ``__add__``)\n",
    "- ``insert`` e.g. ``list_name.insert(index, element)``\n",
    "- ``pop`` (removes and returns last value from the sequence or the given index value)\n",
    "- ``reverse``, ``sort`` (reversing and sorting a sequence \"in place\")"
   ]
  },
  {
   "cell_type": "markdown",
   "metadata": {},
   "source": [
    "Note, however, that some of the above methods mutate the object on which they are invoked (and hence cannot be used with the immutable sequence types) and some return a new object:"
   ]
  },
  {
   "cell_type": "code",
   "execution_count": 1,
   "metadata": {},
   "outputs": [
    {
     "name": "stdout",
     "output_type": "stream",
     "text": [
      "[1, 2, 3, 4, 5]\n",
      "[1, 2, 3, 4, 5, 6, 7]\n"
     ]
    },
    {
     "ename": "AttributeError",
     "evalue": "'str' object has no attribute 'extend'",
     "output_type": "error",
     "traceback": [
      "\u001b[1;31m---------------------------------------------------------------------------\u001b[0m",
      "\u001b[1;31mAttributeError\u001b[0m                            Traceback (most recent call last)",
      "\u001b[1;32m<ipython-input-1-43684d2ab532>\u001b[0m in \u001b[0;36m<module>\u001b[1;34m\u001b[0m\n\u001b[0;32m      5\u001b[0m \u001b[0mprint\u001b[0m\u001b[1;33m(\u001b[0m\u001b[0mx\u001b[0m\u001b[1;33m)\u001b[0m\u001b[1;33m\u001b[0m\u001b[1;33m\u001b[0m\u001b[0m\n\u001b[0;32m      6\u001b[0m \u001b[1;33m\u001b[0m\u001b[0m\n\u001b[1;32m----> 7\u001b[1;33m \u001b[1;34m'Hello'\u001b[0m\u001b[1;33m.\u001b[0m\u001b[0mextend\u001b[0m\u001b[1;33m(\u001b[0m\u001b[1;34m', World!'\u001b[0m\u001b[1;33m)\u001b[0m \u001b[1;31m# Exception: str type is immutable\u001b[0m\u001b[1;33m\u001b[0m\u001b[1;33m\u001b[0m\u001b[0m\n\u001b[0m",
      "\u001b[1;31mAttributeError\u001b[0m: 'str' object has no attribute 'extend'"
     ]
    }
   ],
   "source": [
    "x = [1, 2, 3, 4, 5]\n",
    "x.__add__([6, 7]) # x + [6, 7]\n",
    "print(x)\n",
    "x.extend([6, 7])\n",
    "print(x)\n",
    "\n",
    "'Hello'.extend(', World!') # Exception: str type is immutable"
   ]
  },
  {
   "cell_type": "markdown",
   "metadata": {},
   "source": [
    "We will discuss some of the above methods in class, but know that having an exhaustive knowledge of every method on every built-in type is not necessary. After all, in the real world, knowing what a particular method does is only a Google search away.\n",
    "\n",
    "As usual, remember that the methods surrounded in double underscores are generally not meant to be accessed directly:"
   ]
  },
  {
   "cell_type": "code",
   "execution_count": null,
   "metadata": {},
   "outputs": [],
   "source": [
    "x = [1, 2, 3, 4, 5]\n",
    "\n",
    "x[2] = 'a' # x.__setitem__(2, 'a')\n",
    "print(x[2]) # x.__getitem__(2)\n",
    "print(6 in x) # x.__contains__(6)\n",
    "del x[2] # x.__delitem__(2) (this is a type of statement, del is not an\n",
    "         # opperator)\n",
    "print(len(x)) # x.__len__()"
   ]
  },
  {
   "cell_type": "markdown",
   "metadata": {},
   "source": [
    "You may wish to experiment with some of the above methods here:"
   ]
  },
  {
   "cell_type": "code",
   "execution_count": 9,
   "metadata": {},
   "outputs": [
    {
     "name": "stdout",
     "output_type": "stream",
     "text": [
      "[1, 2, 3, 4]\n",
      "5\n"
     ]
    }
   ],
   "source": [
    "x = [1, 2, 3, 4, 5]\n",
    "y = x.pop()\n",
    "print(x)\n",
    "print(y)"
   ]
  },
  {
   "cell_type": "markdown",
   "metadata": {},
   "source": [
    "# Map types"
   ]
  },
  {
   "cell_type": "markdown",
   "metadata": {},
   "source": [
    "Map types (``dict``) share the following methods:\n",
    "\n",
    "- ``__getitem__``, ``__setitem__``, ``__delitem__``\n",
    "- ``__contains__`` (searches keys), ``__len__``\n",
    "- ``clear`` (removes all items)\n",
    "- ``fromkeys`` (class method, e.g. ``dict.fromkeys(['a', 'b', 'c'], 1)`` returns ``{'a': 1, 'b': 1, 'c': 1}``)\n",
    "- ``get`` (returns a default value if the key is not found, e.g. ``{'a': 1, 'b': 2}.get('c', 7)``)\n",
    "- ``keys``, ``values``, ``items`` (returns a list of pairs, e.g. ``list({'a': 1, 'b': 2}.items())``)\n",
    "- ``pop`` (value returned), ``popitem`` (item returned)"
   ]
  },
  {
   "cell_type": "markdown",
   "metadata": {},
   "source": [
    "You may wish to experiment with some of the above methods here:"
   ]
  },
  {
   "cell_type": "code",
   "execution_count": 7,
   "metadata": {},
   "outputs": [
    {
     "name": "stdout",
     "output_type": "stream",
     "text": [
      "[('a', 1), ('b', 2)]\n",
      "{'a': 1, 'c': 3}\n",
      "2\n",
      "7\n"
     ]
    },
    {
     "ename": "KeyError",
     "evalue": "'c'",
     "output_type": "error",
     "traceback": [
      "\u001b[1;31m---------------------------------------------------------------------------\u001b[0m",
      "\u001b[1;31mKeyError\u001b[0m                                  Traceback (most recent call last)",
      "\u001b[1;32m<ipython-input-7-41b91576916e>\u001b[0m in \u001b[0;36m<module>\u001b[1;34m\u001b[0m\n\u001b[0;32m      7\u001b[0m \u001b[1;33m\u001b[0m\u001b[0m\n\u001b[0;32m      8\u001b[0m \u001b[0mprint\u001b[0m\u001b[1;33m(\u001b[0m\u001b[1;33m{\u001b[0m\u001b[1;34m'a'\u001b[0m\u001b[1;33m:\u001b[0m \u001b[1;36m1\u001b[0m\u001b[1;33m,\u001b[0m \u001b[1;34m'b'\u001b[0m\u001b[1;33m:\u001b[0m \u001b[1;36m2\u001b[0m\u001b[1;33m}\u001b[0m\u001b[1;33m.\u001b[0m\u001b[0mget\u001b[0m\u001b[1;33m(\u001b[0m\u001b[1;34m'c'\u001b[0m\u001b[1;33m,\u001b[0m \u001b[1;36m7\u001b[0m\u001b[1;33m)\u001b[0m\u001b[1;33m)\u001b[0m\u001b[1;33m\u001b[0m\u001b[1;33m\u001b[0m\u001b[0m\n\u001b[1;32m----> 9\u001b[1;33m \u001b[1;33m{\u001b[0m\u001b[1;34m'a'\u001b[0m\u001b[1;33m:\u001b[0m \u001b[1;36m1\u001b[0m\u001b[1;33m,\u001b[0m \u001b[1;34m'b'\u001b[0m\u001b[1;33m:\u001b[0m \u001b[1;36m2\u001b[0m\u001b[1;33m}\u001b[0m\u001b[1;33m[\u001b[0m\u001b[1;34m'c'\u001b[0m\u001b[1;33m]\u001b[0m\u001b[1;33m\u001b[0m\u001b[1;33m\u001b[0m\u001b[0m\n\u001b[0m",
      "\u001b[1;31mKeyError\u001b[0m: 'c'"
     ]
    }
   ],
   "source": [
    "print(list({'a': 1, 'b': 2}.items()))\n",
    "\n",
    "x = {'a': 1, 'b': 2, 'c': 3}\n",
    "y = x.pop('b')\n",
    "print(x)\n",
    "print(y)\n",
    "\n",
    "print({'a': 1, 'b': 2}.get('c', 7))\n",
    "{'a': 1, 'b': 2}['c']"
   ]
  },
  {
   "cell_type": "markdown",
   "metadata": {},
   "source": [
    "# Ranges"
   ]
  },
  {
   "cell_type": "markdown",
   "metadata": {},
   "source": [
    "A ``range`` is a sequence type we have not previously discussed. It is a kind of ``tuple`` where not every element needs to be stored in memory:"
   ]
  },
  {
   "cell_type": "code",
   "execution_count": 1,
   "metadata": {},
   "outputs": [
    {
     "name": "stdout",
     "output_type": "stream",
     "text": [
      "1000050\n"
     ]
    }
   ],
   "source": [
    "range(6, 30) # 6, 7,..., 29\n",
    "range(10) # 0, 1,..., 9\n",
    "range(-6, -2) # -6, -5,..., -3\n",
    "\n",
    "y = range(1000000, 2000000) # no need to store all these values in memory\n",
    "print(y[50])"
   ]
  },
  {
   "cell_type": "markdown",
   "metadata": {},
   "source": [
    "We can also pass a \"step\" to the range constructor:"
   ]
  },
  {
   "cell_type": "code",
   "execution_count": null,
   "metadata": {},
   "outputs": [],
   "source": [
    "range(4, 14, 3) # 4, 7, 10, 13\n",
    "range(5, -5, -2) # 5, 3, 1, -1, -3\n",
    "range(-26, -48, 5) # empty (not infinite)"
   ]
  },
  {
   "cell_type": "markdown",
   "metadata": {},
   "source": [
    "# Iterators"
   ]
  },
  {
   "cell_type": "markdown",
   "metadata": {},
   "source": [
    "An *iterator* is an object which wraps a collection type and provides a convenient method of getting the next item:"
   ]
  },
  {
   "cell_type": "code",
   "execution_count": 3,
   "metadata": {
    "scrolled": true
   },
   "outputs": [
    {
     "name": "stdout",
     "output_type": "stream",
     "text": [
      "a\n",
      "b\n",
      "a\n",
      "c\n"
     ]
    },
    {
     "ename": "StopIteration",
     "evalue": "",
     "output_type": "error",
     "traceback": [
      "\u001b[1;31m---------------------------------------------------------------------------\u001b[0m",
      "\u001b[1;31mStopIteration\u001b[0m                             Traceback (most recent call last)",
      "\u001b[1;32m<ipython-input-3-8e5854b79033>\u001b[0m in \u001b[0;36m<module>\u001b[1;34m\u001b[0m\n\u001b[0;32m      9\u001b[0m \u001b[1;33m\u001b[0m\u001b[0m\n\u001b[0;32m     10\u001b[0m \u001b[0mprint\u001b[0m\u001b[1;33m(\u001b[0m\u001b[0mi\u001b[0m\u001b[1;33m.\u001b[0m\u001b[0m__next__\u001b[0m\u001b[1;33m(\u001b[0m\u001b[1;33m)\u001b[0m\u001b[1;33m)\u001b[0m\u001b[1;33m\u001b[0m\u001b[1;33m\u001b[0m\u001b[0m\n\u001b[1;32m---> 11\u001b[1;33m \u001b[0mprint\u001b[0m\u001b[1;33m(\u001b[0m\u001b[0mi\u001b[0m\u001b[1;33m.\u001b[0m\u001b[0m__next__\u001b[0m\u001b[1;33m(\u001b[0m\u001b[1;33m)\u001b[0m\u001b[1;33m)\u001b[0m\u001b[1;33m\u001b[0m\u001b[1;33m\u001b[0m\u001b[0m\n\u001b[0m",
      "\u001b[1;31mStopIteration\u001b[0m: "
     ]
    }
   ],
   "source": [
    "z = ['a', 'b', 'c']\n",
    "i = z.__iter__()\n",
    "j = z.__iter__()\n",
    "\n",
    "print(i.__next__())\n",
    "print(i.__next__())\n",
    "\n",
    "print(j.__next__())\n",
    "\n",
    "print(i.__next__())\n",
    "print(i.__next__())"
   ]
  },
  {
   "cell_type": "markdown",
   "metadata": {},
   "source": [
    "Some points to keep in mind when using iterators:\n",
    "\n",
    "- If you create two different iterators over the same object, they will each have different placeholders.\n",
    "- Iterators over maps return keys (in no particular order).\n",
    "- As usual, we should generally not invoke __ methods directly; instead, we can use the built-in functions ``iter`` and ``next``, for example:"
   ]
  },
  {
   "cell_type": "code",
   "execution_count": null,
   "metadata": {},
   "outputs": [],
   "source": [
    "z = ['a', 'b', 'c']\n",
    "i = iter(z)\n",
    "print(next(i))\n",
    "print(next(i))\n",
    "print(next(i))"
   ]
  },
  {
   "cell_type": "markdown",
   "metadata": {},
   "source": [
    "- Once a call to ``__next__`` raises the ``StopIteration`` exception, so will all subsequent calls, regardless of whether more items are added to the collection."
   ]
  },
  {
   "cell_type": "markdown",
   "metadata": {},
   "source": [
    "# The for-in loop"
   ]
  },
  {
   "cell_type": "markdown",
   "metadata": {},
   "source": [
    "Recall that Python does not have a \"regular\" for loop of the type found in most popular programming languages. Instead, it has a for-in loop of the following form:"
   ]
  },
  {
   "cell_type": "code",
   "execution_count": null,
   "metadata": {},
   "outputs": [],
   "source": [
    "for target in iterable: # iterable is an iterator or an object which\n",
    "                        # implements __iter__\n",
    "    # body"
   ]
  },
  {
   "cell_type": "markdown",
   "metadata": {},
   "source": [
    "For example:"
   ]
  },
  {
   "cell_type": "code",
   "execution_count": 4,
   "metadata": {},
   "outputs": [
    {
     "name": "stdout",
     "output_type": "stream",
     "text": [
      "1\n",
      "2\n",
      "apple\n"
     ]
    }
   ],
   "source": [
    "for v in [1, 2, 'apple']: # note that \"in\" is not the __contains__ operator\n",
    "    print(v)"
   ]
  },
  {
   "cell_type": "markdown",
   "metadata": {},
   "source": [
    "*Warning:* in the above code, the variable ``v`` exists in the scope which encloses the loop, for example:"
   ]
  },
  {
   "cell_type": "code",
   "execution_count": 5,
   "metadata": {},
   "outputs": [
    {
     "name": "stdout",
     "output_type": "stream",
     "text": [
      "1\n",
      "2\n",
      "apple\n",
      "apple\n"
     ]
    }
   ],
   "source": [
    "v = 50\n",
    "\n",
    "for v in [1, 2, 'apple']:\n",
    "    print(v)\n",
    "    \n",
    "print(v)"
   ]
  },
  {
   "cell_type": "markdown",
   "metadata": {},
   "source": [
    "# List comprehensions"
   ]
  },
  {
   "cell_type": "markdown",
   "metadata": {},
   "source": [
    "Frequently, we want to apply the same operation to all the items of a list, for example:"
   ]
  },
  {
   "cell_type": "code",
   "execution_count": 6,
   "metadata": {},
   "outputs": [
    {
     "name": "stdout",
     "output_type": "stream",
     "text": [
      "[4, 12, -2, 26]\n"
     ]
    }
   ],
   "source": [
    "orig = [2, 6, -1, 13]\n",
    "new = []\n",
    "for x in orig:\n",
    "    new.append(x * 2)\n",
    "    \n",
    "print(new)"
   ]
  },
  {
   "cell_type": "markdown",
   "metadata": {},
   "source": [
    "The above can be accomplished in a more readable manner using Python's *list comprehensions* (which look just like set notation in mathematics):"
   ]
  },
  {
   "cell_type": "code",
   "execution_count": null,
   "metadata": {},
   "outputs": [],
   "source": [
    "new = [x * 2 for x in orig]"
   ]
  },
  {
   "cell_type": "markdown",
   "metadata": {},
   "source": [
    "Compare this to mathematical set notation:\n",
    "$$\n",
    "    \\{2x|x\\in S\\}.\n",
    "$$\n",
    "\n",
    "Note that, in the above, the variable ``x`` is local to the list comprehension, so we could even write something like:"
   ]
  },
  {
   "cell_type": "code",
   "execution_count": 7,
   "metadata": {},
   "outputs": [
    {
     "name": "stdout",
     "output_type": "stream",
     "text": [
      "[4, 12, -2, 26]\n"
     ]
    }
   ],
   "source": [
    "x = [2, 6, -1, 13]\n",
    "new = [x * 2 for x in x] # legal code, but confusing\n",
    "\n",
    "print(new)"
   ]
  }
 ],
 "metadata": {
  "kernelspec": {
   "display_name": "Python 3",
   "language": "python",
   "name": "python3"
  },
  "language_info": {
   "codemirror_mode": {
    "name": "ipython",
    "version": 3
   },
   "file_extension": ".py",
   "mimetype": "text/x-python",
   "name": "python",
   "nbconvert_exporter": "python",
   "pygments_lexer": "ipython3",
   "version": "3.7.1"
  }
 },
 "nbformat": 4,
 "nbformat_minor": 2
}
