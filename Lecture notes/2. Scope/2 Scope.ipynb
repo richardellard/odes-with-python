{
 "cells": [
  {
   "cell_type": "markdown",
   "metadata": {},
   "source": [
    "# Modules"
   ]
  },
  {
   "cell_type": "markdown",
   "metadata": {},
   "source": [
    "A *module* is a source code file. When each module runs (the first time it is imported), an object is created that represents that module and any names that get assigned at the top level (not inside a ``def`` or ``class`` statement) get added as attributes to the module object.\n",
    "\n",
    "Make sure that the accompanying file ``monday.py`` is placed inside the same directory as this notebook."
   ]
  },
  {
   "cell_type": "code",
   "execution_count": null,
   "metadata": {},
   "outputs": [],
   "source": [
    "import monday\n",
    "\n",
    "print(monday.x)\n",
    "print(monday.foo())"
   ]
  },
  {
   "cell_type": "markdown",
   "metadata": {},
   "source": [
    "What would you expect to happen if we tried to access the ``y`` variable from ``monday``?"
   ]
  },
  {
   "cell_type": "code",
   "execution_count": null,
   "metadata": {},
   "outputs": [],
   "source": [
    "print(monday.y)"
   ]
  },
  {
   "cell_type": "markdown",
   "metadata": {},
   "source": [
    "Note that the interpreter only runs each module once; any subsequent imports of the module simply use the existing module object in memory. If this behaviour is not desired (such as when writing and testing a module), then we can use the following \"Magic\" commands:"
   ]
  },
  {
   "cell_type": "code",
   "execution_count": null,
   "metadata": {},
   "outputs": [],
   "source": [
    "%load_ext autoreload\n",
    "%autoreload 2"
   ]
  },
  {
   "cell_type": "code",
   "execution_count": null,
   "metadata": {},
   "outputs": [],
   "source": [
    "print(monday.x)\n",
    "print(monday.foo())"
   ]
  },
  {
   "cell_type": "markdown",
   "metadata": {},
   "source": [
    "A *package* is a collection of (generally related) modules. The modules of a package are placed together in a directory. Make sure the accompanying ``tuesday`` directory is in the same directory as this notebook and that ``tuesday`` contains the file ``noon.py``. Then run the following code:"
   ]
  },
  {
   "cell_type": "code",
   "execution_count": null,
   "metadata": {},
   "outputs": [],
   "source": [
    "import tuesday.noon # \"noon\" module added as attribute to the \"tuesday\"\n",
    "                    # package\n",
    "print(tuesday.noon.txt)"
   ]
  },
  {
   "cell_type": "markdown",
   "metadata": {},
   "source": [
    "Packages can also have subdirectories. Make sure there is a directory called ``wednesday`` in the same directory as this notebook, ``wednesday`` contains a directory called ``morning`` and ``morning`` contains the file ``nine_am.py``. Then run the following code:"
   ]
  },
  {
   "cell_type": "code",
   "execution_count": null,
   "metadata": {},
   "outputs": [],
   "source": [
    "import wednesday.morning.nine_am\n",
    "wednesday.morning.nine_am.foo()"
   ]
  },
  {
   "cell_type": "markdown",
   "metadata": {},
   "source": [
    "It is good practice to add a file called ``__init__.py`` to any package directories you create. This file can do some setup work for the package, but it can also be left blank. It may be required when running a python module from the command line."
   ]
  },
  {
   "cell_type": "markdown",
   "metadata": {},
   "source": [
    "# Variable scope"
   ]
  },
  {
   "cell_type": "markdown",
   "metadata": {},
   "source": [
    "By default, any variables we assign to are added to the local scope:"
   ]
  },
  {
   "cell_type": "code",
   "execution_count": null,
   "metadata": {},
   "outputs": [],
   "source": [
    "def foo():\n",
    "    x = 4\n",
    "    \n",
    "foo()\n",
    "print(x)"
   ]
  },
  {
   "cell_type": "markdown",
   "metadata": {},
   "source": [
    "We can use the ``global`` keyword to add a variable as an attribute of the module:"
   ]
  },
  {
   "cell_type": "code",
   "execution_count": null,
   "metadata": {},
   "outputs": [],
   "source": [
    "def foo():\n",
    "    global y\n",
    "    x = 4\n",
    "    y = 3\n",
    "    \n",
    "foo()\n",
    "print(y)"
   ]
  },
  {
   "cell_type": "markdown",
   "metadata": {},
   "source": [
    "We can use the ``nonlocal`` keyword to assign to a variable in an enclosing scope:"
   ]
  },
  {
   "cell_type": "code",
   "execution_count": null,
   "metadata": {
    "scrolled": true
   },
   "outputs": [],
   "source": [
    "def foo(x, y):\n",
    "    def bar(x):\n",
    "        nonlocal y\n",
    "        x = 4\n",
    "        y = 3\n",
    "    \n",
    "    bar(0)\n",
    "    print(y)\n",
    "    \n",
    "foo(0, 0)"
   ]
  },
  {
   "cell_type": "markdown",
   "metadata": {},
   "source": [
    "Note that the variable marked as ``nonlocal`` must actually exist in the enclosing scope (compare this with the ``global`` keyword above):"
   ]
  },
  {
   "cell_type": "code",
   "execution_count": null,
   "metadata": {},
   "outputs": [],
   "source": [
    "def foo(x, y):\n",
    "    def bar(x):\n",
    "        nonlocal z"
   ]
  },
  {
   "cell_type": "markdown",
   "metadata": {},
   "source": [
    "Any scope nested within a class cannot see the scope of the class itself:"
   ]
  },
  {
   "cell_type": "code",
   "execution_count": null,
   "metadata": {},
   "outputs": [],
   "source": [
    "class Apple:\n",
    "    x = 3\n",
    "    def foo(self):\n",
    "        return x\n",
    "    \n",
    "a = Apple()\n",
    "print(a.foo())"
   ]
  },
  {
   "cell_type": "markdown",
   "metadata": {},
   "source": [
    "How would you modify the code above to correctly access the variable ``x``?"
   ]
  },
  {
   "cell_type": "markdown",
   "metadata": {},
   "source": [
    "# Built-ins"
   ]
  },
  {
   "cell_type": "markdown",
   "metadata": {},
   "source": [
    "The ``builtins`` module is imported by default. The following works, but is unnecessary:"
   ]
  },
  {
   "cell_type": "code",
   "execution_count": null,
   "metadata": {},
   "outputs": [],
   "source": [
    "import builtins\n",
    "\n",
    "builtins.print(3)"
   ]
  },
  {
   "cell_type": "markdown",
   "metadata": {},
   "source": [
    "Variable lookup follows the rule of *LEGB*, that is local -> enclosing -> global (module) -> builtins.\n",
    "\n",
    "We can even break builtin functions (you will definitely want to restart the kernel after running the next cell):"
   ]
  },
  {
   "cell_type": "code",
   "execution_count": null,
   "metadata": {},
   "outputs": [],
   "source": [
    "print = 10\n",
    "print(5)"
   ]
  }
 ],
 "metadata": {
  "kernelspec": {
   "display_name": "Python 3",
   "language": "python",
   "name": "python3"
  },
  "language_info": {
   "codemirror_mode": {
    "name": "ipython",
    "version": 3
   },
   "file_extension": ".py",
   "mimetype": "text/x-python",
   "name": "python",
   "nbconvert_exporter": "python",
   "pygments_lexer": "ipython3",
   "version": "3.7.1"
  }
 },
 "nbformat": 4,
 "nbformat_minor": 2
}
