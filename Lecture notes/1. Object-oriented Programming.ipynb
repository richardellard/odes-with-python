{
 "cells": [
  {
   "cell_type": "markdown",
   "metadata": {},
   "source": [
    "# General terminology"
   ]
  },
  {
   "cell_type": "markdown",
   "metadata": {},
   "source": [
    "The following definitions apply to *programming languages in general*:\n",
    "\n",
    "**Definition:** An *object* is a structure held in memory (inside a variable) which encapsulates the *data* (in the form of \"sub\"-variables) relevant to the object as well as its *behaviour* (in the form of functions which often, but not always, act on that data).\n",
    "\n",
    "**Definition:** A particular piece of data (variable) contained within the object is called a *field*.\n",
    "\n",
    "**Definition:** A particular function associated the object is called a *method*.\n",
    "\n",
    "**Definition:** Collectively, fields and methods are called *members*.\n",
    "\n",
    "**Definition:** A *class* is a \"blueprint\" for creating objects. Many *instances* of a class (also known as objects) can be created during execution of the program, each storing data which is unique from the other instances of that class.\n",
    "\n",
    "The primary perceived benefit of OOP is that it provides *encapsulation*: both the data and behaviour of an object are encapsulated in such a way that the user of the object need not know much or indeed anything about its inner workings; the object becomes a \"black box\" to be used without concern for its implementation. To this end, many programming languages allow certain class members to be marked as *private*, meaning they can only be accessed by the object's methods. In this case, in order to update the value in an object's field from code external to the object, one of the objects methods must be called, which in turn makes the change to the field. Note: in Python, there is a \"double underscore\" convention for naming private fields (see below), but this is not enforced by the interpreter.\n",
    "\n",
    "**Definition:** A class can *inherit* from a *parent* class, in which case, it automatically inherits the parent's members. The *child* can then be given additional members, which its children (if any classes inherit from it) will also inherit. Any class further up the inheritance chain is called an *ancestor* and one further down the chain is called a *descendant*.\n",
    "\n",
    "We can use inheritance when we wish to create a more specialised version of a class we have already created. We can contrast this with the notion of *composition*, where one class of object is embedded inside another, rather than inheriting from it. Composition describes a \"has a\" relationship better, while inheritance describes an \"is a\" relationship better.\n",
    "\n",
    "When we try to access a particular member on an object, the language in question will first check the object itself for that member and if it is not found, member lookup will proceed up the chain of inheritance until a match is found. Because of this, if we wish, we can give a descendant a method with the same name as one of its ancestor's methods. This is called *method overriding*.\n",
    "\n",
    "In some languages (including Python), a class can inherit from more than one parent. This is called *multiple inheritance* and, in this case, the member lookup behaviour is language-specific (in Python 3, it is performed breadth-first).\n",
    "\n",
    "**Definition:** *Class fields* and *class methods* are fields/methods which are attached to the class itself, rather than any particular instance of it. These are essentially just namespaced global variables (not very OOP). Python allows global variables and functions, so these are not really necessary in Python.\n",
    "\n",
    "**Definition:** A *constructor* is a function (usually a method) which returns a new instance of a particular class, possibly after initialising that instance in some way.\n",
    "\n",
    "**Definition:** An *interface* is a defined set of methods. If a class *implements* all the methods specified in the interface, then it is said to implement the interface.\n",
    "\n",
    "Note: an interface is essentially a data type; since Python is dynamically-typed (type checking happens at run time), Python does not use interfaces.\n",
    "\n",
    "**Definition:** An *abstract class* is one which cannot be instantiated (but can be inherited from)."
   ]
  },
  {
   "cell_type": "markdown",
   "metadata": {},
   "source": [
    "# Classes and inheritance in Python"
   ]
  },
  {
   "cell_type": "markdown",
   "metadata": {},
   "source": [
    "Everything in Python is an object/class under the hood, e.g. ``bool``, ``str``, ``int``, ``list``, ``dict`` and even functions. Let's see how Python handles user-defined classes:"
   ]
  },
  {
   "cell_type": "code",
   "execution_count": null,
   "metadata": {},
   "outputs": [],
   "source": [
    "class Animal: # user-defined classes have a capital letter by convention\n",
    "              # could also write Animal():\n",
    "    def __init__(self, name, age): # \"private\" constructor method\n",
    "        self.name = name # adds a \"name\" field to the object\n",
    "        self.age = age\n",
    "    \n",
    "class Mammal(Animal): # syntax for inheritance\n",
    "    def give_birth(self, n):\n",
    "        print(self.name + ' has just given birth to ' + str(n) + ' babies.')\n",
    "        \n",
    "    def introduce_yourself(self):\n",
    "        print('Hello, my name is ' + self.name + ' and I am a mammal.')\n",
    "        \n",
    "class Biped(Animal):\n",
    "    num_legs = 2 # alternative way to add a field (with a default value)\n",
    "    def walk(self):\n",
    "        print(self.name + ' is walking on ' + str(self.num_legs) + ' legs.')\n",
    "        \n",
    "    def introduce_yourself(self):\n",
    "        print('Hello, my name is ' + self.name + ' and I am a biped.')\n",
    "        \n",
    "class Human(Biped, Mammal):\n",
    "    language = 'English'"
   ]
  },
  {
   "cell_type": "markdown",
   "metadata": {},
   "source": [
    "Draw a diagram of the inheritance relationships between the ``Animal``, ``Mammal``, ``Biped`` and ``Human`` classes above.\n",
    "\n",
    "Members in Python are called *attributes*. The code in the class body runs once when the class statement executes and any names we assign to therein are added as attributes of the class.\n",
    "\n",
    "Attributes are looked up via the dot operator. What to you expect to be printed when you run the following code?"
   ]
  },
  {
   "cell_type": "code",
   "execution_count": null,
   "metadata": {},
   "outputs": [],
   "source": [
    "h = Human('Alice', 20) # invoking a class as a function returns a new instance\n",
    "                       # of that class (wouldn't do this for built-ins)\n",
    "print(h.language)\n",
    "print(h.age)\n",
    "h.give_birth(2)\n",
    "h.walk()"
   ]
  },
  {
   "cell_type": "markdown",
   "metadata": {},
   "source": [
    "What about this?"
   ]
  },
  {
   "cell_type": "code",
   "execution_count": null,
   "metadata": {},
   "outputs": [],
   "source": [
    "h.introduce_yourself()"
   ]
  },
  {
   "cell_type": "markdown",
   "metadata": {},
   "source": [
    "You can't modify the attributes of built-in classes, but you can look them up:"
   ]
  },
  {
   "cell_type": "code",
   "execution_count": null,
   "metadata": {},
   "outputs": [],
   "source": [
    "x = 'hello'\n",
    "x.upper();\n",
    "x.foo = 3 # error"
   ]
  },
  {
   "cell_type": "markdown",
   "metadata": {},
   "source": [
    "# Method calls"
   ]
  },
  {
   "cell_type": "markdown",
   "metadata": {},
   "source": [
    "When a method is called on an object, the object itself is passed as the first argument to the method. The corresponding parameter in the method is conventionally called ``self``. Consider the following ``Dog`` class:"
   ]
  },
  {
   "cell_type": "code",
   "execution_count": null,
   "metadata": {},
   "outputs": [],
   "source": [
    "class Dog(Mammal):\n",
    "    sound = 'Woof!'\n",
    "    def bark():\n",
    "        print(sound)"
   ]
  },
  {
   "cell_type": "markdown",
   "metadata": {},
   "source": [
    "What would you expect to happen if you ran the following code?"
   ]
  },
  {
   "cell_type": "code",
   "execution_count": null,
   "metadata": {},
   "outputs": [],
   "source": [
    "fido = Dog('Fido', 4)\n",
    "fido.bark()"
   ]
  },
  {
   "cell_type": "markdown",
   "metadata": {},
   "source": [
    "How would you modify the ``Dog`` class so that the above code produces the expected result?"
   ]
  },
  {
   "cell_type": "code",
   "execution_count": null,
   "metadata": {},
   "outputs": [],
   "source": []
  },
  {
   "cell_type": "markdown",
   "metadata": {},
   "source": [
    "If we do not invoke a method using parentheses, but rather store it in a variable, we store a method bound to the object in question:"
   ]
  },
  {
   "cell_type": "code",
   "execution_count": null,
   "metadata": {},
   "outputs": [],
   "source": [
    "y = h.walk\n",
    "y() # h is passed as first agrument"
   ]
  },
  {
   "cell_type": "markdown",
   "metadata": {},
   "source": [
    "# Operator methods"
   ]
  },
  {
   "cell_type": "markdown",
   "metadata": {},
   "source": [
    "Operators in Python are really methods in disguise, for example, you will find the following in the ``int`` class:"
   ]
  },
  {
   "cell_type": "code",
   "execution_count": null,
   "metadata": {},
   "outputs": [],
   "source": [
    "x = 11\n",
    "y = 5\n",
    "print(x.__add__(y))\n",
    "print(x.__sub__(y))\n",
    "print(x.__mul__(y))\n",
    "print(x.__floordiv__(y)) # x // y\n",
    "print(x.__truediv__(y)) # x / y"
   ]
  },
  {
   "cell_type": "markdown",
   "metadata": {},
   "source": [
    "We can't override these methods on the built-in types though:"
   ]
  },
  {
   "cell_type": "code",
   "execution_count": null,
   "metadata": {},
   "outputs": [],
   "source": [
    "def newadd(self, t):\n",
    "    return self - t\n",
    "\n",
    "int.__add__ = newadd"
   ]
  }
 ],
 "metadata": {
  "kernelspec": {
   "display_name": "Python 3",
   "language": "python",
   "name": "python3"
  },
  "language_info": {
   "codemirror_mode": {
    "name": "ipython",
    "version": 3
   },
   "file_extension": ".py",
   "mimetype": "text/x-python",
   "name": "python",
   "nbconvert_exporter": "python",
   "pygments_lexer": "ipython3",
   "version": "3.7.1"
  }
 },
 "nbformat": 4,
 "nbformat_minor": 2
}
