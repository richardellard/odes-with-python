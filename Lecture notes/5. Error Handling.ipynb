{
 "cells": [
  {
   "cell_type": "markdown",
   "metadata": {},
   "source": [
    "Python classifies errors as either:\n",
    "\n",
    "- *syntax errors:* when the code cannot be interpreted due to \"grammatical\" errors (e.g. indentation errors, writing statements with incorrect structure, etc.), or\n",
    "- *exception errors* (or simply *exceptions*): errors that can reasonably be expected/anticipated during execution and which can possibly be recovered from without terminating the program."
   ]
  },
  {
   "cell_type": "markdown",
   "metadata": {},
   "source": [
    "# Syntax errors"
   ]
  },
  {
   "cell_type": "markdown",
   "metadata": {},
   "source": [
    "Syntax errors can only be raised by Python interpreter itself, for example:"
   ]
  },
  {
   "cell_type": "code",
   "execution_count": null,
   "metadata": {},
   "outputs": [],
   "source": [
    "def foo() # forgotten colon\n",
    "    print('hello')"
   ]
  },
  {
   "cell_type": "markdown",
   "metadata": {},
   "source": [
    "# Exception handling"
   ]
  },
  {
   "cell_type": "markdown",
   "metadata": {},
   "source": [
    "You can raise exceptions in your own code if something \"exceptional\" happens.\n",
    "\n",
    "Exceptions are actually objects and, as such, have types such as ``ZeroDivisionError`` and ``StopIteration``. You can *raise* an exception using the ``raise`` keyword with a call to the ``Exception`` constructor, passing in a string which describes the error:"
   ]
  },
  {
   "cell_type": "code",
   "execution_count": null,
   "metadata": {},
   "outputs": [],
   "source": [
    "raise Exception('x should not be negative')"
   ]
  },
  {
   "cell_type": "markdown",
   "metadata": {},
   "source": [
    "When you are about to write a piece of code that might fail, you should get into the habit of writing it inside a ``try`` clause. Exception handling is carried out inside an ``except`` clause:"
   ]
  },
  {
   "cell_type": "code",
   "execution_count": null,
   "metadata": {},
   "outputs": [],
   "source": [
    "try:\n",
    "    x = 1 / 0 # this line of code fails\n",
    "except:\n",
    "    print('there was an error')\n",
    "\n",
    "print('execution continues')\n",
    "print(x) # x is not defined"
   ]
  },
  {
   "cell_type": "markdown",
   "metadata": {},
   "source": [
    "**Note:** In many languages, raising an exception is called *throwing* it, and the exception is *caught* using *try-catch* caluses, but Python uses the keywords ``raise`` and ``except``.\n",
    "\n",
    "Your error handling code can do a switch based on the exception type:"
   ]
  },
  {
   "cell_type": "code",
   "execution_count": null,
   "metadata": {},
   "outputs": [],
   "source": [
    "y = 1\n",
    "\n",
    "try:\n",
    "    x = 1 / y\n",
    "    file = open('log.txt', 'r') # open in read mode\n",
    "except ZeroDivisionError as err:\n",
    "    # error object accessible through err variable:\n",
    "    print(err)\n",
    "except FileNotFoundError:\n",
    "    print('sorry, cannot find that file')"
   ]
  },
  {
   "cell_type": "markdown",
   "metadata": {},
   "source": [
    " We can also make use the the ``else`` and ``finally`` clauses when handling errors:"
   ]
  },
  {
   "cell_type": "code",
   "execution_count": null,
   "metadata": {},
   "outputs": [],
   "source": [
    "y = 0\n",
    "\n",
    "try:\n",
    "    x = 1 / y\n",
    "except: # put exception handling code here\n",
    "    print('error')\n",
    "else: # only runs if no exceptions were raised\n",
    "    print('no error')\n",
    "finally: # runs last, regardless of whether exceptions were raised\n",
    "    print('I will run regardless')"
   ]
  },
  {
   "cell_type": "markdown",
   "metadata": {},
   "source": [
    "Any exception not caught in an ``except`` clause will propagate up the call stack until it reaches the top level of execution; if not caught there, it will terminate the program:"
   ]
  },
  {
   "cell_type": "code",
   "execution_count": null,
   "metadata": {},
   "outputs": [],
   "source": [
    "def invert(x):\n",
    "    return 1 / x # exception raised here\n",
    "\n",
    "def foo(x):\n",
    "    return invert(x - 1) # exception propogates to here\n",
    "\n",
    "foo(1) # program terminates here\n",
    "print('execution completed')"
   ]
  },
  {
   "cell_type": "markdown",
   "metadata": {},
   "source": [
    "Add try-except clauses in the appropriate place in the above code so that the final line runs despite the exception:"
   ]
  },
  {
   "cell_type": "code",
   "execution_count": null,
   "metadata": {},
   "outputs": [],
   "source": []
  }
 ],
 "metadata": {
  "kernelspec": {
   "display_name": "Python 3",
   "language": "python",
   "name": "python3"
  },
  "language_info": {
   "codemirror_mode": {
    "name": "ipython",
    "version": 3
   },
   "file_extension": ".py",
   "mimetype": "text/x-python",
   "name": "python",
   "nbconvert_exporter": "python",
   "pygments_lexer": "ipython3",
   "version": "3.7.1"
  }
 },
 "nbformat": 4,
 "nbformat_minor": 2
}
