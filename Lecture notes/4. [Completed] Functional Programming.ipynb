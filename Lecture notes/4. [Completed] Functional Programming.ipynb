{
 "cells": [
  {
   "cell_type": "markdown",
   "metadata": {},
   "source": [
    "# Functional vs. imperative programming"
   ]
  },
  {
   "cell_type": "markdown",
   "metadata": {},
   "source": [
    "The *imperative programming* paradigm involves writing statements that update the *state* (variables) of a program; when the program completes, the answer to our problem should be stored in the program state and can be read out. For example, consider the following code, which computes $n!$:"
   ]
  },
  {
   "cell_type": "code",
   "execution_count": 1,
   "metadata": {},
   "outputs": [
    {
     "name": "stdout",
     "output_type": "stream",
     "text": [
      "120\n"
     ]
    }
   ],
   "source": [
    "n = 5\n",
    "\n",
    "fact = 1 # 0! = 1\n",
    "for i in range(n): # i = 0, 1,..., n-1\n",
    "    fact *= i+1\n",
    "    \n",
    "print(fact)"
   ]
  },
  {
   "cell_type": "markdown",
   "metadata": {},
   "source": [
    "In the above, the state of the program is the variable ``fact``, which is iteratively updated (using a for-loop), until it contains the correct answer, at which point this answer is printed to the screen.\n",
    "\n",
    "Imperative programming can be contrasted with *functional programming*, in which we avoid the use of global mutable state altogether. Instead, our program is constructed by combining what we call *pure* functions in programming parlance (simply called \"functions\" in mathematics). Pure functions have no *side effects*, that is, they take an input and return an output without having any other effect on the program; in particular, they do not modify any global state. To be strict, we would even avoid the use of mutable local variables in our functions, as this can still be interpreted as modifying state, even if said state is local to the function. If we give up mutable local variables, this means we must even give up our beloved for-loops, as updating any kind of counter variable would be disallowed!\n",
    "\n",
    "Below, we see the same factorial example written in a functional style:"
   ]
  },
  {
   "cell_type": "code",
   "execution_count": 2,
   "metadata": {},
   "outputs": [
    {
     "data": {
      "text/plain": [
       "120"
      ]
     },
     "execution_count": 2,
     "metadata": {},
     "output_type": "execute_result"
    }
   ],
   "source": [
    "def factorial(n):\n",
    "    if n == 0:\n",
    "        return 1 # no need for an else-clause\n",
    "    return n*factorial(n-1) # n! = n(n-1)!\n",
    "\n",
    "factorial(5)"
   ]
  },
  {
   "cell_type": "markdown",
   "metadata": {},
   "source": [
    "The above code uses *recursion* (the ``factorial`` function calls itself) rather than iteration. Recursion is actually a more powerful concept than iteration, that is to say, anything that can be done with iteration can be done with recursion, but the converse is not true. Observe that the above code contains no state whatsoever. Which solution to the factorial problem do you consider more elegant?\n",
    "\n",
    "Note that no useful program can be entirely functional - at some point, the program must interact with the outside world, for example, by displaying something on a screen (changing the state of the screen), writing to a database, etc. The idea, however is to keep the core logic of the program free of side effects, so that it can be more easily reasoned about and kept bug-free; indeed, functional programming is often used in cases where bugs would cause serious problems, such as in some financial systems and in blockchain development. Some languages, such as *Haskell* even enforce a functional style by disallowing all mutable variables!\n",
    "\n",
    "Python lacks some of the functional optimisations of languages like Haskell, so it would be unusual to write a complicated program entirely functionally in Python, but you should feel free to apply the functional programming paradigm in Python where you feel it is appropriate."
   ]
  },
  {
   "cell_type": "markdown",
   "metadata": {},
   "source": [
    "# Lambda function expressions"
   ]
  },
  {
   "cell_type": "markdown",
   "metadata": {},
   "source": [
    "In Python, it is possible to write a function as a singe expression. The following are equivalent:"
   ]
  },
  {
   "cell_type": "code",
   "execution_count": null,
   "metadata": {},
   "outputs": [],
   "source": [
    "def foo(x, y):\n",
    "    return x * y\n",
    "\n",
    "foo = (lambda x, y: x * y)"
   ]
  },
  {
   "cell_type": "markdown",
   "metadata": {},
   "source": [
    "The ``lambda`` keyword is used in Python as it refers to *lambda calculus*, a formal system in mathematical logic. The body of a lambda function expression can consist only of a single expression statement; this is another downside of Python's indentation syntax.\n",
    "\n",
    "A lambda function expression does not need to take any arguments, nor does it have to return anything, for example:"
   ]
  },
  {
   "cell_type": "code",
   "execution_count": 1,
   "metadata": {},
   "outputs": [
    {
     "name": "stdout",
     "output_type": "stream",
     "text": [
      "Hi!\n"
     ]
    }
   ],
   "source": [
    "(lambda: print('Hi!'))()"
   ]
  },
  {
   "cell_type": "markdown",
   "metadata": {},
   "source": [
    "# Python has first-class functions"
   ]
  },
  {
   "cell_type": "markdown",
   "metadata": {},
   "source": [
    "We have already seen that Python has first-class functions, that is, functions in Python are just an object like any other - they can be stored in a variable, placed inside a collection type, passed as arguments to another function, or returned from another function, etc. Indeed, the following is a somewhat convoluted way of writing a function which sums two numbers:"
   ]
  },
  {
   "cell_type": "code",
   "execution_count": 2,
   "metadata": {},
   "outputs": [
    {
     "data": {
      "text/plain": [
       "5"
      ]
     },
     "execution_count": 2,
     "metadata": {},
     "output_type": "execute_result"
    }
   ],
   "source": [
    "def add(x):\n",
    "    return (lambda y: x + y)\n",
    "\n",
    "add(7)(-2)"
   ]
  },
  {
   "cell_type": "markdown",
   "metadata": {},
   "source": [
    "In the above example, we say that the function returned by ``add`` has been *partially evaluated*, that is, the ``x`` argument has now been \"baked in\" to the returned function. This returned function is then called, passing in the argument ``y``. In Haskell, this is actually how all multi-argument functions are constructed! While there is no need to do the above in Python, because Python functions can accept multiple arguments, there *are* scenarios in which returning a function from another function is a very useful thing to do.\n",
    "\n",
    "It can also be very useful to pass functions as arguments. Can you work out the purpose of the following ``rollup`` function?"
   ]
  },
  {
   "cell_type": "code",
   "execution_count": 4,
   "metadata": {},
   "outputs": [],
   "source": [
    "def rollup(mylist, myfunc):\n",
    "    cigar = mylist[0]\n",
    "    \n",
    "    for i in range(len(mylist)-1):\n",
    "        # i+1 = 1, 2,..., len(mylist)-1\n",
    "        cigar = myfunc(cigar, mylist[i+1])\n",
    "        \n",
    "    return cigar"
   ]
  },
  {
   "cell_type": "markdown",
   "metadata": {},
   "source": [
    "Here are some examples of the ``rollup`` function in use:"
   ]
  },
  {
   "cell_type": "code",
   "execution_count": 5,
   "metadata": {},
   "outputs": [
    {
     "name": "stdout",
     "output_type": "stream",
     "text": [
      "3.5\n",
      "-2.0\n",
      "0.5\n"
     ]
    }
   ],
   "source": [
    "mylist = [2, -1, 2, 0.5]\n",
    "\n",
    "add = (lambda x, y: x + y)\n",
    "prod = (lambda x, y: x * y)\n",
    "power = (lambda x, y: x ** y)\n",
    "\n",
    "print(rollup(mylist, add))\n",
    "print(rollup(mylist, prod))\n",
    "print(rollup(mylist, power))"
   ]
  },
  {
   "cell_type": "markdown",
   "metadata": {},
   "source": [
    "# ``map``, ``filter`` and ``reduce``"
   ]
  },
  {
   "cell_type": "markdown",
   "metadata": {},
   "source": [
    "The ``map``, ``filter`` and ``reduce`` functions facilitate working with lists in a functional style.\n",
    "\n",
    "The built-in ``map`` function applies a function to each entry in a given list, in much the same way as a list comprehension:"
   ]
  },
  {
   "cell_type": "code",
   "execution_count": 6,
   "metadata": {},
   "outputs": [
    {
     "name": "stdout",
     "output_type": "stream",
     "text": [
      "<map object at 0x00000221706CF0D0>\n"
     ]
    }
   ],
   "source": [
    "items = [1, 2, 3, 4, 5]\n",
    "squared = map(lambda x: x**2, items)\n",
    "\n",
    "print(squared)"
   ]
  },
  {
   "cell_type": "markdown",
   "metadata": {},
   "source": [
    "Observe that ``map`` returns a ``map`` object, but we can pass this to the ``list`` constructor to produce the desired result (a list):"
   ]
  },
  {
   "cell_type": "code",
   "execution_count": 7,
   "metadata": {},
   "outputs": [
    {
     "name": "stdout",
     "output_type": "stream",
     "text": [
      "[1, 4, 9, 16, 25]\n"
     ]
    }
   ],
   "source": [
    "squared = list(map(lambda x: x**2, items))\n",
    "\n",
    "print(squared)"
   ]
  },
  {
   "cell_type": "markdown",
   "metadata": {},
   "source": [
    "Given a list, the built-in ``filter`` function returns a new list whose entries have been *filtered* based on whether a given filter function returns ``true`` or ``false``:"
   ]
  },
  {
   "cell_type": "code",
   "execution_count": 8,
   "metadata": {},
   "outputs": [
    {
     "name": "stdout",
     "output_type": "stream",
     "text": [
      "[-5, -4, -3, -2, -1]\n"
     ]
    }
   ],
   "source": [
    "number_list = range(-5, 5)\n",
    "less_than_zero = list(filter(lambda x: x < 0, number_list))\n",
    "\n",
    "print(less_than_zero)"
   ]
  },
  {
   "cell_type": "markdown",
   "metadata": {},
   "source": [
    "As with ``map``, we had to pass the output of ``filter`` to the ``list`` constructor.\n",
    "\n",
    "The ``reduce`` function from the ``functools`` module operates in the same manner as our ``rollup`` function above (but note the order of the arguments):"
   ]
  },
  {
   "cell_type": "code",
   "execution_count": 9,
   "metadata": {},
   "outputs": [
    {
     "name": "stdout",
     "output_type": "stream",
     "text": [
      "24\n"
     ]
    }
   ],
   "source": [
    "from functools import reduce\n",
    "\n",
    "product = reduce((lambda x, y: x * y), [1, 2, 3, 4])\n",
    "\n",
    "print(product)"
   ]
  }
 ],
 "metadata": {
  "kernelspec": {
   "display_name": "Python 3",
   "language": "python",
   "name": "python3"
  },
  "language_info": {
   "codemirror_mode": {
    "name": "ipython",
    "version": 3
   },
   "file_extension": ".py",
   "mimetype": "text/x-python",
   "name": "python",
   "nbconvert_exporter": "python",
   "pygments_lexer": "ipython3",
   "version": "3.7.1"
  }
 },
 "nbformat": 4,
 "nbformat_minor": 2
}
