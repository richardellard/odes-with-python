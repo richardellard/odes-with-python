{
 "cells": [
  {
   "cell_type": "markdown",
   "metadata": {},
   "source": [
    "# Problem one"
   ]
  },
  {
   "cell_type": "markdown",
   "metadata": {},
   "source": [
    "Dictionaries and lists are versatile things and can hold any type of object within them. Create a function called ``myprint`` which takes a single string argument and simply prints it to the screen. Now, add this function to the ``mydict`` object we created in Chapter 0, giving it the key ``'printfn'``. In addition, append the function to the ``mylist`` object created in Chapter 0."
   ]
  },
  {
   "cell_type": "code",
   "execution_count": 5,
   "metadata": {},
   "outputs": [],
   "source": [
    "mydict = {'foo': 3, 'bar': 4, 'baz': 'cat'}\n",
    "\n",
    "mylist = [67, None, 'George Boole']\n",
    "mylist.append(1)\n",
    "\n",
    "def myprint(txt):\n",
    "    print(txt)\n",
    "    \n",
    "mydict['printfn'] = myprint\n",
    "mylist.append(myprint) "
   ]
  },
  {
   "cell_type": "markdown",
   "metadata": {},
   "source": [
    "Test your code by running the following:"
   ]
  },
  {
   "cell_type": "code",
   "execution_count": 8,
   "metadata": {},
   "outputs": [
    {
     "name": "stdout",
     "output_type": "stream",
     "text": [
      "Hello!\n",
      "Goodbye!\n"
     ]
    }
   ],
   "source": [
    "mydict['printfn']('Hello!')\n",
    "mylist[4]('Goodbye!')"
   ]
  },
  {
   "cell_type": "markdown",
   "metadata": {},
   "source": [
    "# Problem two"
   ]
  },
  {
   "cell_type": "markdown",
   "metadata": {},
   "source": [
    "Lists can also contain other lists. Use nested lists to create a 3 x 3 array containing the numbers 1 through 9."
   ]
  },
  {
   "cell_type": "code",
   "execution_count": 9,
   "metadata": {},
   "outputs": [],
   "source": [
    "# method 1:\n",
    "row1 = [1, 2, 3]\n",
    "row2 = [4, 5, 6]\n",
    "row3 = [7, 8, 9]\n",
    "mat = [row1, row2, row3]\n",
    "\n",
    "# method 2:\n",
    "mat = [[1, 2, 3], [4, 5, 6], [7, 8, 9]]"
   ]
  },
  {
   "cell_type": "markdown",
   "metadata": {},
   "source": [
    "We can visualise this as a matrix:\n",
    "$$\n",
    "    \\left[\n",
    "        \\begin{array}{ccc}\n",
    "            1 & 2 & 3 \\\\\n",
    "            4 & 5 & 6 \\\\\n",
    "            7 & 8 & 9\n",
    "        \\end{array}\n",
    "    \\right]\n",
    "$$"
   ]
  },
  {
   "cell_type": "markdown",
   "metadata": {},
   "source": [
    "How do you access the items in your array?"
   ]
  },
  {
   "cell_type": "code",
   "execution_count": 10,
   "metadata": {},
   "outputs": [
    {
     "data": {
      "text/plain": [
       "6"
      ]
     },
     "execution_count": 10,
     "metadata": {},
     "output_type": "execute_result"
    }
   ],
   "source": [
    "# to access the number in row 2 (index 1), column 3 (index 2):\n",
    "mat[1][2]"
   ]
  },
  {
   "cell_type": "markdown",
   "metadata": {},
   "source": [
    "# Problem three"
   ]
  },
  {
   "cell_type": "markdown",
   "metadata": {},
   "source": [
    "Write a function named ``count`` which takes a two-dimensional array of numbers (like the one created in Problem 2) which returns a count of how many of those numbers are strictly greater than zero."
   ]
  },
  {
   "cell_type": "code",
   "execution_count": 11,
   "metadata": {},
   "outputs": [],
   "source": [
    "def count(arr):\n",
    "    running_total = 0\n",
    "    for row in arr:\n",
    "        for entry in row:\n",
    "            if entry > 0:\n",
    "                running_total += 1\n",
    "    return running_total"
   ]
  },
  {
   "cell_type": "markdown",
   "metadata": {},
   "source": [
    "Test your function on an appropriate two-dimensional array:"
   ]
  },
  {
   "cell_type": "code",
   "execution_count": 13,
   "metadata": {},
   "outputs": [
    {
     "data": {
      "text/plain": [
       "5"
      ]
     },
     "execution_count": 13,
     "metadata": {},
     "output_type": "execute_result"
    }
   ],
   "source": [
    "testarray = [\n",
    "    [9, -1, 0, 1],\n",
    "    [2, -6, -3, -1],\n",
    "    [0, 1, -7, 4]\n",
    "]\n",
    "\n",
    "count(testarray)"
   ]
  }
 ],
 "metadata": {
  "kernelspec": {
   "display_name": "Python 3",
   "language": "python",
   "name": "python3"
  },
  "language_info": {
   "codemirror_mode": {
    "name": "ipython",
    "version": 3
   },
   "file_extension": ".py",
   "mimetype": "text/x-python",
   "name": "python",
   "nbconvert_exporter": "python",
   "pygments_lexer": "ipython3",
   "version": "3.7.1"
  }
 },
 "nbformat": 4,
 "nbformat_minor": 2
}
