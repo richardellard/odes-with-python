{
 "cells": [
  {
   "cell_type": "markdown",
   "metadata": {},
   "source": [
    "# Problem one"
   ]
  },
  {
   "cell_type": "markdown",
   "metadata": {},
   "source": [
    "Recall the `marith2` module you wrote in Problem Set 3. Consider the following ways in which a user of your module might use your code:\n",
    "\n",
    "- passing a list of rows to the ``Matrix`` constructor which are different in length;\n",
    "- creating a non-square matrix;\n",
    "- attempting to add two matrices of different sizes;\n",
    "- attempting to multiply two matrices of different sizes (remember, `marith2` supports only square matrices).\n",
    "\n",
    "What is the behaviour when a user attempts to do these things? Does the user get helpful error messages in these cases?\n",
    "\n",
    "Implement appropriate error handling in `marith2` so that the user receives helpful error messages in the above cases."
   ]
  },
  {
   "cell_type": "markdown",
   "metadata": {},
   "source": [
    "# Problem two"
   ]
  },
  {
   "cell_type": "markdown",
   "metadata": {},
   "source": [
    "Make the ``Matrix`` objects iterable to allow users to loop through all the entries of a matrix, as in the following code:"
   ]
  },
  {
   "cell_type": "code",
   "execution_count": null,
   "metadata": {},
   "outputs": [],
   "source": [
    "import marith2\n",
    "\n",
    "A = marith2.Matrix([[1, -2, 3], [-4, 5, -6], [7, -8, 9]])\n",
    "\n",
    "for a in A:\n",
    "    print(a)"
   ]
  }
 ],
 "metadata": {
  "kernelspec": {
   "display_name": "Python 3",
   "language": "python",
   "name": "python3"
  },
  "language_info": {
   "codemirror_mode": {
    "name": "ipython",
    "version": 3
   },
   "file_extension": ".py",
   "mimetype": "text/x-python",
   "name": "python",
   "nbconvert_exporter": "python",
   "pygments_lexer": "ipython3",
   "version": "3.7.1"
  }
 },
 "nbformat": 4,
 "nbformat_minor": 2
}
