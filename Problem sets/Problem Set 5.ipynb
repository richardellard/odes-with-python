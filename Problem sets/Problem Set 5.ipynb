{
 "cells": [
  {
   "cell_type": "markdown",
   "metadata": {},
   "source": [
    "# Problem one"
   ]
  },
  {
   "cell_type": "markdown",
   "metadata": {},
   "source": [
    "Recall the `marith2` module you wrote in Problem Set 3. Consider the following ways in which a user of your module might use your code:\n",
    "\n",
    "- passing a list of rows to the ``Matrix`` constructor which are different in length;\n",
    "- creating a non-square matrix;\n",
    "- attempting to add two matrices of different sizes;\n",
    "- attempting to multiply two matrices of different sizes (remember, `marith2` supports only square matrices).\n",
    "\n",
    "What is the behaviour when a user attempts to do these things? Does the user get helpful error messages in these cases?\n",
    "\n",
    "Implement appropriate error handling in `marith2` so that the user receives helpful error messages in the above cases."
   ]
  }
 ],
 "metadata": {
  "kernelspec": {
   "display_name": "Python 3",
   "language": "python",
   "name": "python3"
  },
  "language_info": {
   "codemirror_mode": {
    "name": "ipython",
    "version": 3
   },
   "file_extension": ".py",
   "mimetype": "text/x-python",
   "name": "python",
   "nbconvert_exporter": "python",
   "pygments_lexer": "ipython3",
   "version": "3.7.1"
  }
 },
 "nbformat": 4,
 "nbformat_minor": 2
}
