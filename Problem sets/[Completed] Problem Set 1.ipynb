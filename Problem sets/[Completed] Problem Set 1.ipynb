{
 "cells": [
  {
   "cell_type": "markdown",
   "metadata": {},
   "source": [
    "# Problem one"
   ]
  },
  {
   "cell_type": "markdown",
   "metadata": {},
   "source": [
    "Consider the following class which describes an inventory record for a particular store item (notebooks):"
   ]
  },
  {
   "cell_type": "code",
   "execution_count": null,
   "metadata": {},
   "outputs": [],
   "source": [
    "class Inventory_Record:\n",
    "    def __init__(self, price, stock_count):\n",
    "        self.price = price # price is an integer in cents\n",
    "        self.stock_count = stock_count\n",
    "        \n",
    "class Notebook_Inventory_Record(Inventory_Record):\n",
    "    colour = 'red'\n",
    "    num_pages = 180\n",
    "    \n",
    "n = Notebook(149, 20)"
   ]
  },
  {
   "cell_type": "markdown",
   "metadata": {},
   "source": [
    "If we get more notebooks in stock, we would like to call ``n.add_stock(quantity)`` on the ``Notebook_Inventory_Record`` object. Each time we sell a notebook (or multiple notebooks in a single order), we would like to call ``n.sold(quantity)`` on the ``Notebook_Inventory_Record`` object. The stock count should never be allowed to be negative. If a negative stock count would result, the ``sold`` method should refuse to decrease the stock count and print out an error message instead. Add these methods to the code above. Where would be the most appropriate place to put them?"
   ]
  },
  {
   "cell_type": "code",
   "execution_count": 19,
   "metadata": {},
   "outputs": [],
   "source": [
    "class Inventory_Record:\n",
    "    def __init__(self, price, stock_count):\n",
    "        self.price = price # price is an integer in cents\n",
    "        self.stock_count = stock_count\n",
    "        \n",
    "    def add_stock(self, quantity):\n",
    "        self.stock_count += quantity\n",
    "        \n",
    "    def sold(self, quantity):\n",
    "        if self.stock_count >= quantity:\n",
    "            self.stock_count -= quantity\n",
    "        else:\n",
    "            print('not enough stock')\n",
    "        \n",
    "class Notebook_Inventory_Record(Inventory_Record):\n",
    "    colour = 'red'\n",
    "    num_pages = 180"
   ]
  },
  {
   "cell_type": "markdown",
   "metadata": {},
   "source": [
    "Test your code here:"
   ]
  },
  {
   "cell_type": "code",
   "execution_count": 33,
   "metadata": {},
   "outputs": [],
   "source": [
    "n = Notebook_Inventory_Record(170, 10)"
   ]
  },
  {
   "cell_type": "code",
   "execution_count": 34,
   "metadata": {},
   "outputs": [
    {
     "name": "stdout",
     "output_type": "stream",
     "text": [
      "not enough stock\n"
     ]
    },
    {
     "data": {
      "text/plain": [
       "10"
      ]
     },
     "execution_count": 34,
     "metadata": {},
     "output_type": "execute_result"
    }
   ],
   "source": [
    "n.sold(12)\n",
    "n.stock_count"
   ]
  },
  {
   "cell_type": "markdown",
   "metadata": {},
   "source": [
    "# Problem two"
   ]
  },
  {
   "cell_type": "markdown",
   "metadata": {},
   "source": [
    "Create a data type called ``Point`` which stores an $x$-coordinate and a $y$-coordinate (your class should include an appropriate constructor). For this data type, the ``+`` operator should return the expected result, that is $$(x, y) + (z, w) = (x+z, y+w).$$ How would you implement this functionality?"
   ]
  },
  {
   "cell_type": "code",
   "execution_count": 44,
   "metadata": {},
   "outputs": [],
   "source": [
    "class Point:\n",
    "    def __init__(self, x, y):\n",
    "        self.x = x\n",
    "        self.y = y\n",
    "        \n",
    "    def __add__(p1, p2): # p1 = self\n",
    "        x = p1.x + p2.x\n",
    "        y = p1.y + p2.y\n",
    "        return Point(x, y)"
   ]
  },
  {
   "cell_type": "markdown",
   "metadata": {},
   "source": [
    "Test your code below:"
   ]
  },
  {
   "cell_type": "code",
   "execution_count": 46,
   "metadata": {},
   "outputs": [
    {
     "name": "stdout",
     "output_type": "stream",
     "text": [
      "-4\n",
      "4.5\n"
     ]
    }
   ],
   "source": [
    "p1 = Point(-4, 3.5)\n",
    "p2 = Point(0, 1)\n",
    "p = p1 + p2 # p = p1.__add__(p2)\n",
    "\n",
    "print(p.x)\n",
    "print(p.y)"
   ]
  }
 ],
 "metadata": {
  "kernelspec": {
   "display_name": "Python 3",
   "language": "python",
   "name": "python3"
  },
  "language_info": {
   "codemirror_mode": {
    "name": "ipython",
    "version": 3
   },
   "file_extension": ".py",
   "mimetype": "text/x-python",
   "name": "python",
   "nbconvert_exporter": "python",
   "pygments_lexer": "ipython3",
   "version": "3.7.1"
  }
 },
 "nbformat": 4,
 "nbformat_minor": 2
}
