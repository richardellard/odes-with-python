{
 "cells": [
  {
   "cell_type": "markdown",
   "metadata": {},
   "source": [
    "# Problem one"
   ]
  },
  {
   "cell_type": "markdown",
   "metadata": {},
   "source": [
    "Write your own versions of the built-in ``map`` and ``filter`` functions; call them ``apply`` and ``screen``, respectively. Your functions should take a function and a list and return a list."
   ]
  },
  {
   "cell_type": "markdown",
   "metadata": {},
   "source": [
    "# Problem two"
   ]
  },
  {
   "cell_type": "markdown",
   "metadata": {},
   "source": [
    "Consider the general second-order difference equation\n",
    "$$\n",
    "    x_{n+2} = ax_{n+1}+bx_n\n",
    "$$\n",
    "for the unknown sequence $(x_n)_{n=0}^\\infty$, where $a$ and $b$ are arbitrary constants. Write a function called ``solve_diff`` which solves such difference equations. ``solve_diff(a, b, x_0, x_1, n)`` should return the $n$-th term in the sequence (that is, $x_n$), given the initial terms $x_0$ and $x_1$."
   ]
  },
  {
   "cell_type": "markdown",
   "metadata": {},
   "source": [
    "# Problem three"
   ]
  },
  {
   "cell_type": "markdown",
   "metadata": {},
   "source": [
    "Add a ``determinant`` method to the ``Matrix`` class in the ``marith2`` module you wrote in Problem set 3. Naturally, this method should return the determinant of the matrix.\n",
    "\n",
    "*Hint: use Laplace expansion along the first row and recursion, that is to say, your ``determinant`` method should call itself, passing an $n-1\\times n-1$ matrix as an argument.*"
   ]
  }
 ],
 "metadata": {
  "kernelspec": {
   "display_name": "Python 3",
   "language": "python",
   "name": "python3"
  },
  "language_info": {
   "codemirror_mode": {
    "name": "ipython",
    "version": 3
   },
   "file_extension": ".py",
   "mimetype": "text/x-python",
   "name": "python",
   "nbconvert_exporter": "python",
   "pygments_lexer": "ipython3",
   "version": "3.7.1"
  }
 },
 "nbformat": 4,
 "nbformat_minor": 2
}
