{
 "cells": [
  {
   "cell_type": "markdown",
   "metadata": {},
   "source": [
    "# Problem one\n",
    "\n",
    "Solve (by hand) the following initial value problems:\n",
    "\n",
    "**(a)** $y'(x)=2e^{2x}-1$, $y(0)=1$;\n",
    "\n",
    "**(b)** $y'(x)=e^{x+y}$, $y(0)=0$."
   ]
  },
  {
   "cell_type": "markdown",
   "metadata": {},
   "source": [
    "# Problem two\n",
    "\n",
    "In order to graph the approximation produced by Euler's method and produce Figure 1 of Chapter 9, the $y$-values `[1, 1.5, 2.25, 3.375]` were hard-coded. Check that these values are correct. Now, write an implementation of Euler's method in Python, that is to say, write a function called ``Euler`` which behaves the same way as `odeint`, but which produces its list of approximate $y$-values using Euler's method.\n",
    "\n",
    "Copy all the code which produced Figure 1, and replace the line\n",
    "`y = [1, 1.5, 2.25, 3.375]`\n",
    "with the line\n",
    "`y = Euler(f, 1, x)`.\n",
    "Does the code still work?\n",
    "\n",
    "Experiment with adjusting the step size in both approximation methods."
   ]
  },
  {
   "cell_type": "markdown",
   "metadata": {},
   "source": [
    "# Problem three\n",
    "\n",
    "Use the `odeint` function to plot the solution to the initial value problem\n",
    "\n",
    "$$\n",
    "    \\frac{dy}{dx}=x+\\frac{1}{5}y, \\hspace{10mm} y(0)=-3\n",
    "$$\n",
    "\n",
    "on the interval $[0,5]$.\n",
    "\n",
    "If you have managed to successfully implement the `Euler` function from Problem 2, plot (on the same graph) the approximate solutions using Euler's method with step sizes $h=1$ and $h=0.1$."
   ]
  }
 ],
 "metadata": {
  "kernelspec": {
   "display_name": "Python 3",
   "language": "python",
   "name": "python3"
  },
  "language_info": {
   "codemirror_mode": {
    "name": "ipython",
    "version": 3
   },
   "file_extension": ".py",
   "mimetype": "text/x-python",
   "name": "python",
   "nbconvert_exporter": "python",
   "pygments_lexer": "ipython3",
   "version": "3.7.1"
  }
 },
 "nbformat": 4,
 "nbformat_minor": 2
}
