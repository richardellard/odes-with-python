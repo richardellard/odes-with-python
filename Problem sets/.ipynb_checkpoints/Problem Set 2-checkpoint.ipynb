{
 "cells": [
  {
   "cell_type": "markdown",
   "metadata": {},
   "source": [
    "# Problem one"
   ]
  },
  {
   "cell_type": "markdown",
   "metadata": {},
   "source": [
    "Write a module called ``marith`` which implements matrix arithmetic (matrix addition, matrix multiplication and scalar multiplication) for $2 \\times 2$ matrices. Users of your module should be able to create the matrix\n",
    "$$\n",
    "    \\left[\n",
    "        \\begin{array}{cc}\n",
    "            a & b \\\\\n",
    "            c & d\n",
    "        \\end{array}\n",
    "    \\right]\n",
    "$$\n",
    "using ``m = marith.Matrix(a, b, c, d)``. Matrix addition and multiplication should use the standard ``+`` and ``*`` operators, respectively, and scalar multiplication should be accomplished by calling a method called ``scale`` on your ``Matrix`` class, which takes a scalar as an argument, e.g. ``B = A.scale(3)``. Your module should also include constants called ``identity`` and ``zero`` which are the $2 \\times 2$ identity and zero matrices, respectively. Place your module in the same directory as this notebook and then test it by running the following code:"
   ]
  },
  {
   "cell_type": "code",
   "execution_count": null,
   "metadata": {},
   "outputs": [],
   "source": [
    "import marith\n",
    "\n",
    "A = marith.Matrix(1, 2, 3, 4)\n",
    "I = marith.identity\n",
    "B = A + I\n",
    "C = A * I\n",
    "D = A.scale(2)"
   ]
  },
  {
   "cell_type": "markdown",
   "metadata": {},
   "source": [
    "Of course, it would be nice if we had a way of printing our matrices to the screen. Note that, if we pass an instance of one of our classes to the built-in ``print`` function, ``print`` will look for a method called ``__str__`` on your class which returns a string. It will then print the string returned by ``__str__`` to the screen. Add an appropriate ``__str__`` method to your ``Matrix`` class and then check that the matrices $B$, $C$ and $D$ above were computed as you expected:"
   ]
  },
  {
   "cell_type": "code",
   "execution_count": null,
   "metadata": {},
   "outputs": [],
   "source": [
    "print(B)\n",
    "print(C)\n",
    "print(D)"
   ]
  }
 ],
 "metadata": {
  "kernelspec": {
   "display_name": "Python 3",
   "language": "python",
   "name": "python3"
  },
  "language_info": {
   "codemirror_mode": {
    "name": "ipython",
    "version": 3
   },
   "file_extension": ".py",
   "mimetype": "text/x-python",
   "name": "python",
   "nbconvert_exporter": "python",
   "pygments_lexer": "ipython3",
   "version": "3.7.1"
  }
 },
 "nbformat": 4,
 "nbformat_minor": 2
}
