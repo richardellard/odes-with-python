{
 "cells": [
  {
   "cell_type": "markdown",
   "metadata": {},
   "source": [
    "# Problem one"
   ]
  },
  {
   "cell_type": "markdown",
   "metadata": {},
   "source": [
    "Write your own versions of the built-in ``map`` and ``filter`` functions; call them ``apply`` and ``screen``, respectively. Your functions should take a function and a list and return a list."
   ]
  },
  {
   "cell_type": "code",
   "execution_count": 1,
   "metadata": {},
   "outputs": [
    {
     "data": {
      "text/plain": [
       "[1, 4, 9, 16, 25]"
      ]
     },
     "execution_count": 1,
     "metadata": {},
     "output_type": "execute_result"
    }
   ],
   "source": [
    "def apply(func, lst):\n",
    "    return [func(x) for x in lst]\n",
    "\n",
    "l = [1, 2, 3, 4, 5]\n",
    "square = lambda x: x**2\n",
    "\n",
    "apply(square, l)"
   ]
  },
  {
   "cell_type": "code",
   "execution_count": 2,
   "metadata": {},
   "outputs": [
    {
     "data": {
      "text/plain": [
       "[2, 1, 6, 7]"
      ]
     },
     "execution_count": 2,
     "metadata": {},
     "output_type": "execute_result"
    }
   ],
   "source": [
    "def screen(test, lst):\n",
    "    filtered = []\n",
    "    for x in lst:\n",
    "        if test(x):\n",
    "            filtered.append(x)\n",
    "    return filtered\n",
    "\n",
    "l = [-3, 2, 0, 1, 6, -3, 7]\n",
    "test = lambda x: x > 0\n",
    "\n",
    "screen(test, l)"
   ]
  },
  {
   "cell_type": "markdown",
   "metadata": {},
   "source": [
    "# Problem two"
   ]
  },
  {
   "cell_type": "markdown",
   "metadata": {},
   "source": [
    "Consider the general second-order difference equation\n",
    "$$\n",
    "    x_{n+2} = ax_{n+1}+bx_n\n",
    "$$\n",
    "for the unknown sequence $(x_n)_{n=0}^\\infty$, where $a$ and $b$ are arbitrary constants. Write a function called ``solve_diff`` which solves such difference equations. ``solve_diff(a, b, x_0, x_1, n)`` should return the $n$-th term in the sequence (that is, $x_n$), given the initial terms $x_0$ and $x_1$."
   ]
  },
  {
   "cell_type": "code",
   "execution_count": 3,
   "metadata": {},
   "outputs": [
    {
     "data": {
      "text/plain": [
       "[0, 1, 1, 2, 3, 5, 8, 13, 21, 34]"
      ]
     },
     "execution_count": 3,
     "metadata": {},
     "output_type": "execute_result"
    }
   ],
   "source": [
    "def solve_diff(a, b, x_0, x_1, n):\n",
    "    if n == 0:\n",
    "        return x_0\n",
    "    if n == 1:\n",
    "        return x_1\n",
    "    return a*solve_diff(a, b, x_0, x_1, n-1) + b*solve_diff(a, b, x_0, x_1, n-2)\n",
    "\n",
    "[solve_diff(1, 1, 0, 1, n) for n in range(10)]# Fibonacci sequence"
   ]
  },
  {
   "cell_type": "markdown",
   "metadata": {},
   "source": [
    "# Problem three"
   ]
  },
  {
   "cell_type": "markdown",
   "metadata": {},
   "source": [
    "Add a ``determinant`` method to the ``Matrix`` class in the ``marith2`` module you wrote in Problem set 3. Naturally, this method should return the determinant of the matrix.\n",
    "\n",
    "*Hint: use Laplace expansion along the first row and recursion, that is to say, your ``determinant`` method should call itself, passing an $n-1\\times n-1$ matrix as an argument.*"
   ]
  },
  {
   "cell_type": "code",
   "execution_count": 4,
   "metadata": {},
   "outputs": [
    {
     "data": {
      "text/plain": [
       "-133"
      ]
     },
     "execution_count": 4,
     "metadata": {},
     "output_type": "execute_result"
    }
   ],
   "source": [
    "import marith2\n",
    "\n",
    "A = marith2.Matrix([[1,-5,3],[-3,1,-2],[-1,0,9]])\n",
    "\n",
    "A.determinant()"
   ]
  }
 ],
 "metadata": {
  "kernelspec": {
   "display_name": "Python 3",
   "language": "python",
   "name": "python3"
  },
  "language_info": {
   "codemirror_mode": {
    "name": "ipython",
    "version": 3
   },
   "file_extension": ".py",
   "mimetype": "text/x-python",
   "name": "python",
   "nbconvert_exporter": "python",
   "pygments_lexer": "ipython3",
   "version": "3.7.1"
  }
 },
 "nbformat": 4,
 "nbformat_minor": 2
}
