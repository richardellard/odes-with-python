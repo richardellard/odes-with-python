{
 "cells": [
  {
   "cell_type": "markdown",
   "metadata": {},
   "source": [
    "# Problem one\n",
    "\n",
    "Consider the initial-value problem\n",
    "$$\n",
    "\t\\frac{dy}{dx}-2y=3e^{2x}, \\hspace{10mm} y(0)=0.\n",
    "$$\n",
    "\n",
    "**(a)** Solve the problem analytically.\n",
    "\n",
    "**(b)** For $0\\leq x\\leq1$, plot the analytic solution together with the numerical solution obtained using `odeint`. In the numerical solution, use a step size small enough to illustrate any inaccuracies."
   ]
  },
  {
   "cell_type": "markdown",
   "metadata": {},
   "source": [
    "# Problem two\n",
    "\n",
    "Consider the equation\n",
    "$$\n",
    "\t\\frac{d^2y}{dt^2}+y=3t.\n",
    "$$\n",
    "\n",
    "**(a)** Show that the function $y(t)=3t$ satisfies the equation.\n",
    "\n",
    "**(b)** Find (analytically) the general solution of the equation.\n",
    "\n",
    "**(c)** Find the particular solution satisfying $y(0)=2$, $y'(0)=-2$.\n",
    "\n",
    "**(d)** For $0\\leq t\\leq 10$, plot the particular solution you obtained in part (c) together with the numerical solution obtained using `odeint`. In the numerical solution, use a step size small enough to illustrate any inaccuracies."
   ]
  },
  {
   "cell_type": "markdown",
   "metadata": {},
   "source": [
    "# Problem three\n",
    "\n",
    "For the cheetah-gazelle example given in Chapter 11:\n",
    "\n",
    "**(a)** In the $(y,z)$-plane, plot the parametric curve $(y(t),z(t))$ for some appropriate range of $t$. What do you think an appropriate maximum value for $t$ would be (remember, the populations are periodic)?\n",
    "\n",
    "**Note.** What you have just drawn is called the *phase portrait* of the system.\n",
    "\n",
    "**(b)** Experiment by changing the initial populations and observing how the phase portrait changes (if you draw these on the same plot, you should see a family of concentric, closed curves).\n",
    "\n",
    "**(c)** Based on your experimentation in (b), can you estimate the pair of stable populations $(x^*,y^*)$, that is, the pair of populations such that, if $y(0)=y^*$ and $z(0)=z^*$, then $y(t)=y^*$ and $z(t)=z^*$ for all $t\\geq0$.\n",
    "\n",
    "**(d)** Find the precise values of the stable populations using the Volterra equations (note that extinction is one solution)."
   ]
  },
  {
   "cell_type": "markdown",
   "metadata": {},
   "source": [
    "# Problem four\n",
    "\n",
    "Plot the numerical solution to the initial-value problem\n",
    "$$\n",
    "    \\frac{d^2y}{dt^2}=-y \\left( \\frac{dy}{dt} \\right)^2, \\hspace{10mm} y(0)=0, \\hspace{5mm} y'(0)=1\n",
    "$$\n",
    "for $0\\leq t \\leq 10$."
   ]
  },
  {
   "cell_type": "markdown",
   "metadata": {},
   "source": [
    "# Problem five\n",
    "\n",
    "Find the eigenvalues and corresponding eigenfunctions of the boundary value problem\n",
    "$$\n",
    "    y''+\\lambda y = 0;\\hspace{10mm}y'(0)=0,\\hspace{5mm}y(1)=0.\n",
    "$$\n",
    "Plot the first four eigenfunctions you find and confirm visually that they satisfy the given boundary conditions."
   ]
  }
 ],
 "metadata": {
  "kernelspec": {
   "display_name": "Python 3",
   "language": "python",
   "name": "python3"
  },
  "language_info": {
   "codemirror_mode": {
    "name": "ipython",
    "version": 3
   },
   "file_extension": ".py",
   "mimetype": "text/x-python",
   "name": "python",
   "nbconvert_exporter": "python",
   "pygments_lexer": "ipython3",
   "version": "3.7.1"
  }
 },
 "nbformat": 4,
 "nbformat_minor": 2
}
