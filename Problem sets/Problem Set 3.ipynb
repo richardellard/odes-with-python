{
 "cells": [
  {
   "cell_type": "markdown",
   "metadata": {},
   "source": [
    "# Problem one"
   ]
  },
  {
   "cell_type": "markdown",
   "metadata": {},
   "source": [
    "In the exercises of previous notebook, you were asked to create a module called ``marith`` which implements matrix addition, multiplication and scalar multiplication for $2 \\times 2$ matrices. Write a new, upgraded module called ``marith2`` which has all the same functionality as your ``marith`` module, but for $n \\times n$ matrices.\n",
    "\n",
    "The constructor for your ``Matrix`` class should take a 2-dimensional list as an argument; for example, a user of your module should be able to create the matrix\n",
    "$$\n",
    "    \\left[\n",
    "        \\begin{array}{ccc}\n",
    "         1 & 2 & 3\\\\\n",
    "         4 & 5 & 6\\\\\n",
    "         7 & 8 & 9\n",
    "        \\end{array}\n",
    "    \\right]\n",
    "$$\n",
    "with the code ``M = Matrix([[1, 2, 3], [4, 5, 6], [7, 8, 9]])``. Where ``identity`` and ``zero`` were constants in ``marith``, they should be functions in ``marith2``, which take the size of the desired matrix, $n$, as an argument, and return the $n \\times n$ identity and zero matrices, respectively.\n",
    "\n",
    "Please note that this is a difficult exercise, so do not be disheartened if you don't achieve a complete solution. Are there some pieces of the code you can get to work? Simply attempting this problem will give you some experience at trying to solve a semi-real-world programming problem.\n",
    "\n",
    "You can test your code by placing ``marith2.py`` in the same directory as this notebook and then running the following:"
   ]
  },
  {
   "cell_type": "code",
   "execution_count": null,
   "metadata": {},
   "outputs": [],
   "source": [
    "import marith2\n",
    "\n",
    "A = marith2.Matrix([[1, 2, 3], [4, 5, 6], [7, 8, 9]])\n",
    "I = marith2.identity(3)\n",
    "B = A + I\n",
    "C = A * I\n",
    "D = A.scale(2)\n",
    "\n",
    "print(B)\n",
    "print(C)\n",
    "print(D)"
   ]
  },
  {
   "cell_type": "markdown",
   "metadata": {},
   "source": [
    "# Problem two"
   ]
  },
  {
   "cell_type": "markdown",
   "metadata": {},
   "source": [
    "Make your ``Matrix`` objects indexed by row and column number to allow users to access individual entries conveniently, as in the following code. *Hint: recall the `__getitem__` method.*"
   ]
  },
  {
   "cell_type": "code",
   "execution_count": null,
   "metadata": {},
   "outputs": [],
   "source": [
    "A = marith2.Matrix([[1, -2, 3], [-4, 5, -6], [7, -8, 9]])\n",
    "\n",
    "A[1][2]"
   ]
  },
  {
   "cell_type": "markdown",
   "metadata": {},
   "source": [
    "# Problem three"
   ]
  },
  {
   "cell_type": "markdown",
   "metadata": {},
   "source": [
    "Make the ``Matrix`` objects iterable to allow users to loop through all the entries of a matrix, as in the following code:"
   ]
  },
  {
   "cell_type": "code",
   "execution_count": null,
   "metadata": {},
   "outputs": [],
   "source": [
    "import marith2\n",
    "\n",
    "A = marith2.Matrix([[1, -2, 3], [-4, 5, -6], [7, -8, 9]])\n",
    "\n",
    "for a in A:\n",
    "    print(a)"
   ]
  }
 ],
 "metadata": {
  "kernelspec": {
   "display_name": "Python 3",
   "language": "python",
   "name": "python3"
  },
  "language_info": {
   "codemirror_mode": {
    "name": "ipython",
    "version": 3
   },
   "file_extension": ".py",
   "mimetype": "text/x-python",
   "name": "python",
   "nbconvert_exporter": "python",
   "pygments_lexer": "ipython3",
   "version": "3.7.1"
  }
 },
 "nbformat": 4,
 "nbformat_minor": 2
}
