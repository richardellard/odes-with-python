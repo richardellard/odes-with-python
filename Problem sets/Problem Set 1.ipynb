{
 "cells": [
  {
   "cell_type": "markdown",
   "metadata": {},
   "source": [
    "# Problem one"
   ]
  },
  {
   "cell_type": "markdown",
   "metadata": {},
   "source": [
    "Consider the following class which describes an inventory record for a particular store item (notebooks):"
   ]
  },
  {
   "cell_type": "code",
   "execution_count": null,
   "metadata": {},
   "outputs": [],
   "source": [
    "class Inventory_Record:\n",
    "    def __init__(self, price, stock_count):\n",
    "        self.price = price # price is an integer in cents\n",
    "        self.stock_count = stock_count\n",
    "        \n",
    "class Notebook_Inventory_Record(Inventory_Record):\n",
    "    colour = 'red'\n",
    "    num_pages = 180\n",
    "    \n",
    "n = Notebook(149, 20)"
   ]
  },
  {
   "cell_type": "markdown",
   "metadata": {},
   "source": [
    "If we get more notebooks in stock, we would like to call ``n.add_stock(quantity)`` on the ``Notebook_Inventory_Record`` object. Each time we sell a notebook (or multiple notebooks in a single order), we would like to call ``n.sold(quantity)`` on the ``Notebook_Inventory_Record`` object. The stock count should never be allowed to be negative. If a negative stock count would result, the ``sold`` method should refuse to decrease the stock count and print out an error message instead. Add these methods to the code above. Where would be the most appropriate place to put them?"
   ]
  },
  {
   "cell_type": "code",
   "execution_count": null,
   "metadata": {},
   "outputs": [],
   "source": []
  },
  {
   "cell_type": "markdown",
   "metadata": {},
   "source": [
    "Test your code here:"
   ]
  },
  {
   "cell_type": "code",
   "execution_count": null,
   "metadata": {},
   "outputs": [],
   "source": []
  },
  {
   "cell_type": "markdown",
   "metadata": {},
   "source": [
    "# Problem two"
   ]
  },
  {
   "cell_type": "markdown",
   "metadata": {},
   "source": [
    "Create a data type called ``Point`` which stores an $x$-coordinate and a $y$-coordinate (your class should include an appropriate constructor). For this data type, the ``+`` operator should return the expected result, that is $$(x, y) + (z, w) = (x+z, y+w).$$ How would you implement this functionality?"
   ]
  },
  {
   "cell_type": "code",
   "execution_count": null,
   "metadata": {},
   "outputs": [],
   "source": []
  },
  {
   "cell_type": "markdown",
   "metadata": {},
   "source": [
    "Test your code below:"
   ]
  },
  {
   "cell_type": "code",
   "execution_count": null,
   "metadata": {},
   "outputs": [],
   "source": []
  }
 ],
 "metadata": {
  "kernelspec": {
   "display_name": "Python 3",
   "language": "python",
   "name": "python3"
  },
  "language_info": {
   "codemirror_mode": {
    "name": "ipython",
    "version": 3
   },
   "file_extension": ".py",
   "mimetype": "text/x-python",
   "name": "python",
   "nbconvert_exporter": "python",
   "pygments_lexer": "ipython3",
   "version": "3.7.1"
  }
 },
 "nbformat": 4,
 "nbformat_minor": 2
}
