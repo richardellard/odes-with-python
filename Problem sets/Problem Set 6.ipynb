{
 "cells": [
  {
   "cell_type": "markdown",
   "metadata": {},
   "source": [
    "# Problem one\n",
    "\n",
    "Use Theorem 7.1 to show that the differential equation $xy'=2y$ has a unique solution near any point in the $(x,y)$-plane where $x\\neq0$."
   ]
  },
  {
   "cell_type": "markdown",
   "metadata": {},
   "source": [
    "# Problem two\n",
    "\n",
    "Verify that the initial value problem\n",
    "$$\n",
    "    y'=2\\sqrt{y}, \\hspace{10mm} y(0)=0\n",
    "$$\n",
    "violates the conditions of Theorem 7.1. By plotting the slope field in Python for $x,y\\in[0,1]$, can you see intuitively why there are two distinct solutions?"
   ]
  },
  {
   "cell_type": "markdown",
   "metadata": {},
   "source": [
    "# Problem three\n",
    "\n",
    "A baseball traveling at moderate speed (say, less than 100 m s$^{-1}$) will experience a drag force which is roughly proportional to its velocity and in the opposite direction. If the ball is thrown directly downwards with some initial velocity, then the velocity of the ball at time $t$ can be described by the differential equation\n",
    "$$\n",
    "    \\frac{dv}{dt} = -9.8-0.2v,\n",
    "$$\n",
    "where 9.8 m s$^{-2}$ is acceleration due to gravity and 0.2 is a reasonable value for the constant of proportionality. Use python to plot the slope field for this equation for $0\\leq t \\leq 25$ and $-100 \\leq v\\leq 0$, and from your plot, deduce an approximate value for the terminal velocity of the ball, that is, the velocity where the drag force exactly balances the force of gravity and the ball stops accelerating."
   ]
  },
  {
   "cell_type": "markdown",
   "metadata": {},
   "source": [
    "# Problem four\n",
    "\n",
    "Use python to plot the slope field for the equation $y'=x-y$. From looking at the slope field, can you spot a particular solution to the equation *(hint: look for where the slope field appears to be moving in a straight line)*? Check that your solution is correct by differentiation. What (approximately) is the minimum value of the particular solution $y(x)$ satisfying $y(-4)=4$? What do you think the general solution looks like as $x\\rightarrow\\infty$?"
   ]
  }
 ],
 "metadata": {
  "kernelspec": {
   "display_name": "Python 3",
   "language": "python",
   "name": "python3"
  },
  "language_info": {
   "codemirror_mode": {
    "name": "ipython",
    "version": 3
   },
   "file_extension": ".py",
   "mimetype": "text/x-python",
   "name": "python",
   "nbconvert_exporter": "python",
   "pygments_lexer": "ipython3",
   "version": "3.7.1"
  }
 },
 "nbformat": 4,
 "nbformat_minor": 2
}
